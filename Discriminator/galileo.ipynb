{
  "nbformat": 4,
  "nbformat_minor": 0,
  "metadata": {
    "colab": {
      "provenance": []
    },
    "kernelspec": {
      "name": "python3",
      "display_name": "Python 3"
    },
    "language_info": {
      "name": "python"
    }
  },
  "cells": [
    {
      "cell_type": "markdown",
      "source": [
        "# PREPROCESSOR & GALILEO"
      ],
      "metadata": {
        "id": "mtoc8apn7obq"
      }
    },
    {
      "cell_type": "code",
      "source": [
        "# Create preprocessor.py\n",
        "%%writefile preprocessor.py\n",
        "import pandas as pd\n",
        "import numpy as np\n",
        "import scipy.signal as signal\n",
        "\n",
        "\n",
        "def load_data(file_path):\n",
        "    \"\"\"\n",
        "    Load a CSV file and convert timestamp to datetime if present.\n",
        "\n",
        "    Args:\n",
        "        file_path (str): Path to the CSV file\n",
        "\n",
        "    Returns:\n",
        "        pandas.DataFrame: Loaded data or None if error\n",
        "    \"\"\"\n",
        "    try:\n",
        "        df = pd.read_csv(file_path)\n",
        "        if 'timestamp' in df.columns:\n",
        "            df['date'] = pd.to_datetime(df['timestamp'])\n",
        "        return df\n",
        "    except Exception as e:\n",
        "        print(f\"Error loading file: {e}\")\n",
        "        return None\n",
        "\n",
        "\n",
        "def filter_window(window, epsilon=0.1, target_column=None):\n",
        "    \"\"\"\n",
        "    Filter a window of data by identifying values that are within epsilon of the mean.\n",
        "\n",
        "    Args:\n",
        "        window (pandas.DataFrame): Window of data to filter\n",
        "        epsilon (float): Tolerance as a percentage\n",
        "        target_column (str, optional): Specific column to filter. If provided, only this column will be filtered.\n",
        "\n",
        "    Returns:\n",
        "        pandas.DataFrame: Mask of values to keep\n",
        "    \"\"\"\n",
        "    filter_columns = []\n",
        "\n",
        "    # If target column is specified, only filter that column\n",
        "    if target_column and target_column in window.columns:\n",
        "        filter_columns = [target_column]\n",
        "    else:\n",
        "        # Otherwise, filter all relevant columns\n",
        "        if 'frequency' in window.columns:\n",
        "            filter_columns.append('frequency')\n",
        "\n",
        "        for prefix in ['V', 'C']:\n",
        "            for i in range(1, 4):\n",
        "                col = f\"{prefix}{i}\"\n",
        "                col_lower = col.lower()\n",
        "                matching_cols = [c for c in window.columns if c.lower() == col_lower]\n",
        "                if matching_cols:\n",
        "                    filter_columns.extend(matching_cols)\n",
        "\n",
        "        power_cols = [col for col in window.columns if 'power' in col.lower()]\n",
        "        filter_columns.extend(power_cols)\n",
        "\n",
        "    filter_columns = [col for col in filter_columns if col in window.columns]\n",
        "    filter_columns = [col for col in filter_columns if np.issubdtype(window[col].dtype, np.number)]\n",
        "\n",
        "    if not filter_columns:\n",
        "        print(\"Warning: No valid columns to filter on.\")\n",
        "        return pd.DataFrame(True, index=window.index, columns=window.columns)\n",
        "\n",
        "    keep_mask = pd.DataFrame(True, index=window.index, columns=window.columns)\n",
        "\n",
        "    for column in filter_columns:\n",
        "        if window[column].isna().all() or (window[column] == 0).all():\n",
        "            continue\n",
        "\n",
        "        avg = window[column].mean()\n",
        "\n",
        "        lower_bound = avg - abs(avg * epsilon)\n",
        "        upper_bound = avg + abs(avg * epsilon)\n",
        "\n",
        "        within_range = (window[column] >= lower_bound) & (window[column] <= upper_bound)\n",
        "\n",
        "        keep_mask[column] = within_range\n",
        "\n",
        "    return keep_mask\n",
        "\n",
        "\n",
        "def filter_data(df, window_size=10, epsilon=0.1, target_column=None):\n",
        "    \"\"\"\n",
        "    Filter data by applying window-based filtering.\n",
        "\n",
        "    Args:\n",
        "        df (pandas.DataFrame): Data to filter\n",
        "        window_size (int): Size of the window for filtering\n",
        "        epsilon (float): Tolerance as a percentage\n",
        "        target_column (str, optional): Specific column to filter. If provided, only this column will be filtered\n",
        "                                      and rows will only be dropped if this column contains null values.\n",
        "\n",
        "    Returns:\n",
        "        pandas.DataFrame: Filtered data\n",
        "    \"\"\"\n",
        "    filtered_df = df.copy()\n",
        "\n",
        "    total_windows = 0\n",
        "    total_cells = 0\n",
        "    nullified_cells = 0\n",
        "\n",
        "    for i in range(0, len(df), window_size):\n",
        "        window = df.iloc[i:i+window_size]\n",
        "\n",
        "        if len(window) < window_size:\n",
        "            continue\n",
        "\n",
        "        total_windows += 1\n",
        "\n",
        "        keep_mask = filter_window(window, epsilon, target_column)\n",
        "\n",
        "        # For single column analysis, only operate on that column\n",
        "        if target_column:\n",
        "            if target_column in keep_mask.columns:\n",
        "                total_cells += len(window[target_column])\n",
        "                nullified_values = (~keep_mask[target_column]).sum()\n",
        "                nullified_cells += nullified_values\n",
        "\n",
        "                filtered_df.loc[window.index[~keep_mask[target_column]], target_column] = np.nan\n",
        "        else:\n",
        "            # For multiple column analysis, operate on all columns\n",
        "            for col in window.columns:\n",
        "                if col in keep_mask.columns:\n",
        "                    total_cells += len(window[col])\n",
        "                    nullified_values = (~keep_mask[col]).sum()\n",
        "                    nullified_cells += nullified_values\n",
        "\n",
        "                    filtered_df.loc[window.index[~keep_mask[col]], col] = np.nan\n",
        "\n",
        "    return filtered_df\n",
        "\n",
        "\n",
        "def moving_average_filter(data, window_size):\n",
        "    \"\"\"\n",
        "    Apply a moving average filter to the data.\n",
        "\n",
        "    Args:\n",
        "        data (numpy.ndarray): Data to filter\n",
        "        window_size (int): Size of the moving window\n",
        "\n",
        "    Returns:\n",
        "        numpy.ndarray: Filtered data\n",
        "    \"\"\"\n",
        "    return np.convolve(data, np.ones(window_size)/window_size, mode='same')\n",
        "\n",
        "\n",
        "def butterworth_filter(data, cutoff, fs, order=4):\n",
        "    \"\"\"\n",
        "    Apply a Butterworth low-pass filter to the data.\n",
        "\n",
        "    Args:\n",
        "        data (numpy.ndarray): Data to filter\n",
        "        cutoff (float): Cutoff frequency\n",
        "        fs (float): Sampling frequency\n",
        "        order (int): Filter order\n",
        "\n",
        "    Returns:\n",
        "        numpy.ndarray: Filtered data\n",
        "    \"\"\"\n",
        "    nyquist = 0.5 * fs\n",
        "    normal_cutoff = cutoff / nyquist\n",
        "    b, a = signal.butter(order, normal_cutoff, btype='low', analog=False)\n",
        "    return signal.filtfilt(b, a, data)\n",
        "\n",
        "\n",
        "def savgol_filter(data, window_size, poly_order):\n",
        "    \"\"\"\n",
        "    Apply a Savitzky-Golay filter to the data.\n",
        "\n",
        "    Args:\n",
        "        data (numpy.ndarray): Data to filter\n",
        "        window_size (int): Size of the window\n",
        "        poly_order (int): Order of the polynomial\n",
        "\n",
        "    Returns:\n",
        "        numpy.ndarray: Filtered data\n",
        "    \"\"\"\n",
        "    return signal.savgol_filter(data, window_size, poly_order)\n",
        "\n",
        "\n",
        "def extract_noise_signal(df, filter, window_size=5, cutoff=0.1, fs=1.0, poly_order=2, keep_noise_only=True, target_column=None):\n",
        "    \"\"\"\n",
        "    Extract noise from signals using various filtering methods.\n",
        "\n",
        "    Args:\n",
        "        df (pandas.DataFrame): Data containing signals\n",
        "        filter (str): Type of filter to use ('moving_average', 'butterworth', 'savgol')\n",
        "        window_size (int): Size of the window for filtering\n",
        "        cutoff (float): Cutoff frequency for Butterworth filter\n",
        "        fs (float): Sampling frequency for Butterworth filter\n",
        "        poly_order (int): Polynomial order for Savitzky-Golay filter\n",
        "        keep_noise_only (bool): If True, return only the noise component\n",
        "        target_column (str, optional): Specific column to extract noise from. If provided, only this column will be processed.\n",
        "\n",
        "    Returns:\n",
        "        pandas.DataFrame: Data with extracted noise signals\n",
        "    \"\"\"\n",
        "    noise_signals = pd.DataFrame(index=df.index)\n",
        "\n",
        "    # clean the data just in case\n",
        "    df.dropna(inplace=True)\n",
        "\n",
        "    # Select columns to process\n",
        "    columns_to_process = [target_column] if target_column and target_column in df.columns else df.columns\n",
        "\n",
        "    # noise extraction on each column\n",
        "    for column in columns_to_process:\n",
        "        if column == 'timestamp' or column == 'date':\n",
        "            noise_signals[column] = df[column]\n",
        "            continue\n",
        "\n",
        "        data = df[column].values\n",
        "\n",
        "        if filter == 'moving_average':\n",
        "            noise_signals[column] = moving_average_filter(data, window_size=window_size)\n",
        "        elif filter == 'butterworth':\n",
        "            noise_signals[column] = butterworth_filter(data, cutoff=cutoff, fs=fs)\n",
        "        elif filter == 'savgol':\n",
        "            noise_signals[column] = savgol_filter(data, window_size=window_size, poly_order=poly_order)\n",
        "        else:\n",
        "            raise ValueError(f\"Unknown filter type: {filter}\")\n",
        "\n",
        "        if keep_noise_only:\n",
        "            noise_signals[column] = data - noise_signals[column]\n",
        "\n",
        "    return noise_signals\n"
      ],
      "metadata": {
        "colab": {
          "base_uri": "https://localhost:8080/"
        },
        "id": "BAAUbbYD7VOa",
        "outputId": "92d0cf71-0a28-48c3-b55f-df613d034871"
      },
      "execution_count": 1,
      "outputs": [
        {
          "output_type": "stream",
          "name": "stdout",
          "text": [
            "Writing preprocessor.py\n"
          ]
        }
      ]
    },
    {
      "cell_type": "code",
      "source": [
        "# Create galileo.py\n",
        "%%writefile galileo.py\n",
        "import pandas as pd\n",
        "import numpy as np\n",
        "from sklearn.svm import SVC\n",
        "from sklearn.preprocessing import StandardScaler\n",
        "from sklearn.inspection import permutation_importance\n",
        "import matplotlib.pyplot as plt\n",
        "import joblib\n",
        "import os\n",
        "from tsfresh.feature_extraction import feature_calculators\n",
        "from preprocessor import load_data as prep_load_data\n",
        "from preprocessor import filter_data\n",
        "\n",
        "def load_data(file_path):\n",
        "    \"\"\"Load and preprocess the CSV file using preprocessor functions.\"\"\"\n",
        "    try:\n",
        "        df = prep_load_data(file_path)\n",
        "        return df\n",
        "    except Exception as e:\n",
        "        print(f\"Error loading file: {e}\")\n",
        "        return None\n",
        "\n",
        "def extract_features(signal):\n",
        "    \"\"\"Extract features from a signal.\"\"\"\n",
        "    if len(signal) < 2:\n",
        "        return None\n",
        "\n",
        "    std = feature_calculators.standard_deviation(signal)\n",
        "    mean = feature_calculators.mean(signal)\n",
        "    variance = feature_calculators.variance(signal)\n",
        "    std_perc = (std / mean * 100) if mean != 0 else 0\n",
        "    skewness = feature_calculators.skewness(signal)\n",
        "    approx_entropy = feature_calculators.approximate_entropy(signal, m=2, r=0.3)\n",
        "    autocorr = feature_calculators.autocorrelation(signal,lag=1)\n",
        "    kurtosis = feature_calculators.kurtosis(signal)\n",
        "    #fourier_entropy = feature_calculators.fourier_entropy(signal, bins=20)\n",
        "    lempev = feature_calculators.lempel_ziv_complexity(signal, bins=20)\n",
        "    longest_above_mean = feature_calculators.longest_strike_above_mean(signal)\n",
        "    longest_below_mean = feature_calculators.longest_strike_below_mean(signal)\n",
        "    n_peaks = feature_calculators.number_peaks(signal, n=1)\n",
        "    permutation_entropy = feature_calculators.permutation_entropy(signal, tau=1, dimension=4)\n",
        "\n",
        "    features = {\n",
        "        'std': std,\n",
        "        'variance': variance,\n",
        "        'std_perc': std_perc,\n",
        "        'skewness': skewness,\n",
        "        'approx_entropy':approx_entropy,\n",
        "        'autocorr':autocorr,\n",
        "        'kurtosis':kurtosis,\n",
        "        #'fourier_entropy':fourier_entropy,\n",
        "        'lempev':lempev,\n",
        "        'longest_above_mean':longest_above_mean,\n",
        "        'longest_below_mean':longest_below_mean,\n",
        "        'n_peaks':n_peaks,\n",
        "        'permutation_entropy':permutation_entropy,\n",
        "    }\n",
        "\n",
        "    return features\n",
        "\n",
        "def extract_window_features(df, window_size=10, target_column=None):\n",
        "    \"\"\"Extract features from a sliding window of the data with preprocessing.\"\"\"\n",
        "    # Validate target_column exists in data\n",
        "    if target_column and target_column not in df.columns:\n",
        "        print(f\"Error: Specified column '{target_column}' not found in data.\")\n",
        "        print(f\"Available columns: {', '.join(df.columns)}\")\n",
        "        return pd.DataFrame(), []\n",
        "\n",
        "    measurement_types = {\n",
        "        'current': ['C1', 'C2', 'C3'],\n",
        "        'voltage': ['V1', 'V2', 'V3'],\n",
        "        'power': ['power_real', 'power_effective', 'power_apparent'],\n",
        "        'frequency' : ['frequency']\n",
        "    }\n",
        "\n",
        "    all_features = []\n",
        "    feature_names = []\n",
        "\n",
        "    epsilon = 0.08\n",
        "    filtered_df = filter_data(df, window_size=window_size, epsilon=epsilon, target_column=target_column)\n",
        "\n",
        "    for i in range(0, len(filtered_df), window_size//2):  # 50% overlap\n",
        "        window = filtered_df.iloc[i:i+window_size].copy()\n",
        "\n",
        "        # Skip if window is too small\n",
        "        if len(window) < window_size:\n",
        "            continue\n",
        "\n",
        "        initial_size = window_size * len(window.columns)\n",
        "\n",
        "        window = window.dropna()\n",
        "\n",
        "        non_null_count_after = window.count().sum()\n",
        "\n",
        "        # Skip window if it has less than 60% of its original data after removing nulls\n",
        "        if non_null_count_after < 0.6 * initial_size:\n",
        "            continue\n",
        "\n",
        "        window_features = {}\n",
        "\n",
        "        # If target_column is specified, only analyze that column\n",
        "        if target_column:\n",
        "            if target_column in filtered_df.columns:\n",
        "                signal = window[target_column].values\n",
        "                if len(signal) > 0:\n",
        "                    features = extract_features(signal)\n",
        "                    if features:\n",
        "                        for fname, fval in features.items():\n",
        "                            feature_name = f\"{target_column}_{fname}\"\n",
        "                            window_features[feature_name] = fval\n",
        "                            if feature_name not in feature_names:\n",
        "                                feature_names.append(feature_name)\n",
        "        else:\n",
        "            # Otherwise, analyze all columns by category\n",
        "            for category, columns in measurement_types.items():\n",
        "                for col in columns:\n",
        "                    if col in filtered_df.columns:\n",
        "                        signal = window[col].values\n",
        "                        if len(signal) > 0:\n",
        "                            features = extract_features(signal)\n",
        "                            if features:\n",
        "                                for fname, fval in features.items():\n",
        "                                    feature_name = f\"{col}_{fname}\"\n",
        "                                    window_features[feature_name] = fval\n",
        "                                    if feature_name not in feature_names:\n",
        "                                        feature_names.append(feature_name)\n",
        "\n",
        "        if window_features:\n",
        "            all_features.append(window_features)\n",
        "\n",
        "    return pd.DataFrame(all_features), feature_names\n",
        "\n",
        "def calculate_feature_importance(svm, X, y, feature_names):\n",
        "    \"\"\"Calculate feature importance using permutation importance.\"\"\"\n",
        "    result = permutation_importance(svm, X, y, n_repeats=10, random_state=42)\n",
        "    importance_scores = result.importances_mean\n",
        "\n",
        "    importance_df = pd.DataFrame({\n",
        "        'Feature': feature_names,\n",
        "        'Importance': importance_scores\n",
        "    })\n",
        "    importance_df = importance_df.sort_values('Importance', ascending=False)\n",
        "\n",
        "    return importance_df\n",
        "\n",
        "def plot_feature_importance(importance_df, title=\"Feature Importance\"):\n",
        "    \"\"\"Plot feature importance scores.\"\"\"\n",
        "    plt.figure(figsize=(12, 6))\n",
        "    plt.bar(range(len(importance_df)), importance_df['Importance'])\n",
        "    plt.xticks(range(len(importance_df)), importance_df['Feature'], rotation=45, ha='right')\n",
        "    plt.title(title)\n",
        "    plt.xlabel('Features')\n",
        "    plt.ylabel('Importance Score')\n",
        "    plt.tight_layout()\n",
        "    plt.savefig('feature_importance.png')\n",
        "    plt.close()\n",
        "\n",
        "def train_svm(training_files, labels, target_column=None):\n",
        "    \"\"\"Train SVM classifier on multiple files.\"\"\"\n",
        "    all_features = []\n",
        "    all_labels = []\n",
        "    feature_names = None\n",
        "\n",
        "    for file_path, label in zip(training_files, labels):\n",
        "        df = load_data(file_path)\n",
        "        if df is not None:\n",
        "            features_df, curr_feature_names = extract_window_features(df, target_column=target_column)\n",
        "            if not features_df.empty:\n",
        "                all_features.append(features_df)\n",
        "                all_labels.extend([label] * len(features_df))\n",
        "                if feature_names is None:\n",
        "                    feature_names = curr_feature_names\n",
        "\n",
        "    if not all_features:\n",
        "        print(\"No valid features extracted from training files\")\n",
        "        return None, None, None\n",
        "\n",
        "    X = pd.concat(all_features, ignore_index=True)\n",
        "    y = np.array(all_labels)\n",
        "\n",
        "    # Handle NaN values\n",
        "    X = X.fillna(0)\n",
        "\n",
        "    # Scale features\n",
        "    scaler = StandardScaler()\n",
        "    X_scaled = scaler.fit_transform(X)\n",
        "\n",
        "    # Train SVM\n",
        "    svm = SVC(kernel='rbf', probability=True)\n",
        "    svm.fit(X_scaled, y)\n",
        "\n",
        "    # Calculate feature importance\n",
        "    importance_df = calculate_feature_importance(svm, X_scaled, y, feature_names)\n",
        "    plot_feature_importance(importance_df)\n",
        "\n",
        "    print(\"\\nTop 10 Most Important Features:\")\n",
        "    print(importance_df.head(10).to_string(index=False))\n",
        "\n",
        "    return svm, scaler, feature_names\n",
        "\n",
        "def analyze_file(file_path, svm, scaler, feature_names, target_column=None):\n",
        "    \"\"\"Analyze a single file using trained SVM.\"\"\"\n",
        "    df = load_data(file_path)\n",
        "    if df is None:\n",
        "        return None\n",
        "\n",
        "    features_df, extracted_feature_names = extract_window_features(df, target_column=target_column)\n",
        "    if features_df.empty:\n",
        "        return None\n",
        "\n",
        "    # Handle NaN values\n",
        "    features_df = features_df.fillna(0)\n",
        "\n",
        "    # Check if any required features are missing\n",
        "    missing_features = [f for f in feature_names if f not in features_df.columns]\n",
        "    if missing_features:\n",
        "        print(f\"Error: {len(missing_features)} features used in training were not found in analysis data:\")\n",
        "        for feature in missing_features[:5]:  # Print first 5 missing features for clarity\n",
        "            print(f\"  - Missing feature: '{feature}'\")\n",
        "        if len(missing_features) > 5:\n",
        "            print(f\"  - ... and {len(missing_features) - 5} more\")\n",
        "        print(\"\\nAnalysis cannot proceed. Please ensure you're using the same column(s) for analysis as used in training.\")\n",
        "        return None\n",
        "\n",
        "    # Create aligned features dataframe with same structure as training data\n",
        "    aligned_features = pd.DataFrame(index=features_df.index)\n",
        "    for feature in feature_names:\n",
        "        aligned_features[feature] = features_df[feature]\n",
        "\n",
        "    # Scale features\n",
        "    X_scaled = scaler.transform(aligned_features)\n",
        "\n",
        "    predictions = svm.predict(X_scaled)\n",
        "    probabilities = svm.predict_proba(X_scaled)\n",
        "\n",
        "    is_real = np.mean(predictions) > 0.5  # 1 for real, 0 for simulated\n",
        "    confidence = np.mean(np.max(probabilities, axis=1)) * 100\n",
        "\n",
        "    return {\n",
        "        'classification': \"REAL\" if is_real else \"SIMULATED\",\n",
        "        'confidence': int(confidence),\n",
        "        'window_predictions': predictions,\n",
        "        'window_probabilities': probabilities\n",
        "    }\n",
        "\n",
        "def train_and_save_model(training_files, labels, model_path, target_column=None):\n",
        "    \"\"\"Train SVM model and save it to the specified path.\"\"\"\n",
        "    svm, scaler, feature_names = train_svm(training_files, labels, target_column=target_column)\n",
        "\n",
        "    if svm is not None:\n",
        "        joblib.dump((svm, scaler, feature_names, target_column), model_path)\n",
        "        print(f\"\\nModel saved to {model_path}\")\n",
        "        print(\"Feature importance plot saved as 'feature_importance.png'\")\n",
        "        return True\n",
        "\n",
        "    return False\n",
        "\n",
        "def analyze_with_model(file_path, model_path, target_column=None):\n",
        "    \"\"\"Load model and analyze the specified file.\"\"\"\n",
        "    if not os.path.exists(model_path):\n",
        "        print(f\"Model file {model_path} not found\")\n",
        "        return None\n",
        "\n",
        "    # Load model\n",
        "    model_data = joblib.load(model_path)\n",
        "\n",
        "    # Check if the model includes target_column information (for backward compatibility)\n",
        "    if len(model_data) == 4:\n",
        "        svm, scaler, feature_names, trained_column = model_data\n",
        "    else:\n",
        "        svm, scaler, feature_names = model_data\n",
        "        trained_column = None\n",
        "\n",
        "    # Use command line column if specified, otherwise use the column the model was trained on\n",
        "    analysis_column = target_column if target_column else trained_column\n",
        "\n",
        "    if analysis_column:\n",
        "        print(f\"Analyzing only column: {analysis_column}\")\n",
        "    else:\n",
        "        print(\"Analyzing all columns\")\n",
        "\n",
        "    results = analyze_file(file_path, svm, scaler, feature_names, target_column=analysis_column)\n",
        "    return results"
      ],
      "metadata": {
        "colab": {
          "base_uri": "https://localhost:8080/"
        },
        "id": "6dy7uAS588Jx",
        "outputId": "346230d3-f36c-420a-802d-ae1564365839"
      },
      "execution_count": 2,
      "outputs": [
        {
          "output_type": "stream",
          "name": "stdout",
          "text": [
            "Writing galileo.py\n"
          ]
        }
      ]
    },
    {
      "cell_type": "code",
      "source": [
        "!pip install joblib scikit-learn pandas numpy matplotlib scipy tsfresh"
      ],
      "metadata": {
        "colab": {
          "base_uri": "https://localhost:8080/"
        },
        "id": "ay_GWQyr9Eyd",
        "outputId": "cc9eb554-3f8c-4fa7-e58a-d4277aa3be59"
      },
      "execution_count": 3,
      "outputs": [
        {
          "output_type": "stream",
          "name": "stdout",
          "text": [
            "Requirement already satisfied: joblib in /usr/local/lib/python3.11/dist-packages (1.4.2)\n",
            "Requirement already satisfied: scikit-learn in /usr/local/lib/python3.11/dist-packages (1.6.1)\n",
            "Requirement already satisfied: pandas in /usr/local/lib/python3.11/dist-packages (2.2.2)\n",
            "Requirement already satisfied: numpy in /usr/local/lib/python3.11/dist-packages (1.26.4)\n",
            "Requirement already satisfied: matplotlib in /usr/local/lib/python3.11/dist-packages (3.10.0)\n",
            "Requirement already satisfied: scipy in /usr/local/lib/python3.11/dist-packages (1.13.1)\n",
            "Collecting tsfresh\n",
            "  Downloading tsfresh-0.21.0-py2.py3-none-any.whl.metadata (2.6 kB)\n",
            "Requirement already satisfied: threadpoolctl>=3.1.0 in /usr/local/lib/python3.11/dist-packages (from scikit-learn) (3.5.0)\n",
            "Requirement already satisfied: python-dateutil>=2.8.2 in /usr/local/lib/python3.11/dist-packages (from pandas) (2.8.2)\n",
            "Requirement already satisfied: pytz>=2020.1 in /usr/local/lib/python3.11/dist-packages (from pandas) (2025.1)\n",
            "Requirement already satisfied: tzdata>=2022.7 in /usr/local/lib/python3.11/dist-packages (from pandas) (2025.1)\n",
            "Requirement already satisfied: contourpy>=1.0.1 in /usr/local/lib/python3.11/dist-packages (from matplotlib) (1.3.1)\n",
            "Requirement already satisfied: cycler>=0.10 in /usr/local/lib/python3.11/dist-packages (from matplotlib) (0.12.1)\n",
            "Requirement already satisfied: fonttools>=4.22.0 in /usr/local/lib/python3.11/dist-packages (from matplotlib) (4.56.0)\n",
            "Requirement already satisfied: kiwisolver>=1.3.1 in /usr/local/lib/python3.11/dist-packages (from matplotlib) (1.4.8)\n",
            "Requirement already satisfied: packaging>=20.0 in /usr/local/lib/python3.11/dist-packages (from matplotlib) (24.2)\n",
            "Requirement already satisfied: pillow>=8 in /usr/local/lib/python3.11/dist-packages (from matplotlib) (11.1.0)\n",
            "Requirement already satisfied: pyparsing>=2.3.1 in /usr/local/lib/python3.11/dist-packages (from matplotlib) (3.2.1)\n",
            "Requirement already satisfied: requests>=2.9.1 in /usr/local/lib/python3.11/dist-packages (from tsfresh) (2.32.3)\n",
            "Requirement already satisfied: statsmodels>=0.13 in /usr/local/lib/python3.11/dist-packages (from tsfresh) (0.14.4)\n",
            "Requirement already satisfied: patsy>=0.4.1 in /usr/local/lib/python3.11/dist-packages (from tsfresh) (1.0.1)\n",
            "Collecting pywavelets (from tsfresh)\n",
            "  Downloading pywavelets-1.8.0-cp311-cp311-manylinux_2_17_x86_64.manylinux2014_x86_64.whl.metadata (9.0 kB)\n",
            "Requirement already satisfied: tqdm>=4.10.0 in /usr/local/lib/python3.11/dist-packages (from tsfresh) (4.67.1)\n",
            "Collecting stumpy>=1.7.2 (from tsfresh)\n",
            "  Downloading stumpy-1.13.0-py3-none-any.whl.metadata (28 kB)\n",
            "Requirement already satisfied: cloudpickle in /usr/local/lib/python3.11/dist-packages (from tsfresh) (3.1.1)\n",
            "Collecting scipy\n",
            "  Downloading scipy-1.15.2-cp311-cp311-manylinux_2_17_x86_64.manylinux2014_x86_64.whl.metadata (61 kB)\n",
            "\u001b[2K     \u001b[90m━━━━━━━━━━━━━━━━━━━━━━━━━━━━━━━━━━━━━━━━\u001b[0m \u001b[32m62.0/62.0 kB\u001b[0m \u001b[31m1.2 MB/s\u001b[0m eta \u001b[36m0:00:00\u001b[0m\n",
            "\u001b[?25hRequirement already satisfied: six>=1.5 in /usr/local/lib/python3.11/dist-packages (from python-dateutil>=2.8.2->pandas) (1.17.0)\n",
            "Requirement already satisfied: charset-normalizer<4,>=2 in /usr/local/lib/python3.11/dist-packages (from requests>=2.9.1->tsfresh) (3.4.1)\n",
            "Requirement already satisfied: idna<4,>=2.5 in /usr/local/lib/python3.11/dist-packages (from requests>=2.9.1->tsfresh) (3.10)\n",
            "Requirement already satisfied: urllib3<3,>=1.21.1 in /usr/local/lib/python3.11/dist-packages (from requests>=2.9.1->tsfresh) (2.3.0)\n",
            "Requirement already satisfied: certifi>=2017.4.17 in /usr/local/lib/python3.11/dist-packages (from requests>=2.9.1->tsfresh) (2025.1.31)\n",
            "Requirement already satisfied: numba>=0.57.1 in /usr/local/lib/python3.11/dist-packages (from stumpy>=1.7.2->tsfresh) (0.61.0)\n",
            "Requirement already satisfied: llvmlite<0.45,>=0.44.0dev0 in /usr/local/lib/python3.11/dist-packages (from numba>=0.57.1->stumpy>=1.7.2->tsfresh) (0.44.0)\n",
            "Downloading tsfresh-0.21.0-py2.py3-none-any.whl (96 kB)\n",
            "\u001b[2K   \u001b[90m━━━━━━━━━━━━━━━━━━━━━━━━━━━━━━━━━━━━━━━━\u001b[0m \u001b[32m96.0/96.0 kB\u001b[0m \u001b[31m1.6 MB/s\u001b[0m eta \u001b[36m0:00:00\u001b[0m\n",
            "\u001b[?25hDownloading scipy-1.15.2-cp311-cp311-manylinux_2_17_x86_64.manylinux2014_x86_64.whl (37.6 MB)\n",
            "\u001b[2K   \u001b[90m━━━━━━━━━━━━━━━━━━━━━━━━━━━━━━━━━━━━━━━━\u001b[0m \u001b[32m37.6/37.6 MB\u001b[0m \u001b[31m11.8 MB/s\u001b[0m eta \u001b[36m0:00:00\u001b[0m\n",
            "\u001b[?25hDownloading stumpy-1.13.0-py3-none-any.whl (176 kB)\n",
            "\u001b[2K   \u001b[90m━━━━━━━━━━━━━━━━━━━━━━━━━━━━━━━━━━━━━━━━\u001b[0m \u001b[32m176.5/176.5 kB\u001b[0m \u001b[31m7.9 MB/s\u001b[0m eta \u001b[36m0:00:00\u001b[0m\n",
            "\u001b[?25hDownloading pywavelets-1.8.0-cp311-cp311-manylinux_2_17_x86_64.manylinux2014_x86_64.whl (4.5 MB)\n",
            "\u001b[2K   \u001b[90m━━━━━━━━━━━━━━━━━━━━━━━━━━━━━━━━━━━━━━━━\u001b[0m \u001b[32m4.5/4.5 MB\u001b[0m \u001b[31m24.1 MB/s\u001b[0m eta \u001b[36m0:00:00\u001b[0m\n",
            "\u001b[?25hInstalling collected packages: scipy, pywavelets, stumpy, tsfresh\n",
            "  Attempting uninstall: scipy\n",
            "    Found existing installation: scipy 1.13.1\n",
            "    Uninstalling scipy-1.13.1:\n",
            "      Successfully uninstalled scipy-1.13.1\n",
            "\u001b[31mERROR: pip's dependency resolver does not currently take into account all the packages that are installed. This behaviour is the source of the following dependency conflicts.\n",
            "gensim 4.3.3 requires scipy<1.14.0,>=1.7.0, but you have scipy 1.15.2 which is incompatible.\u001b[0m\u001b[31m\n",
            "\u001b[0mSuccessfully installed pywavelets-1.8.0 scipy-1.15.2 stumpy-1.13.0 tsfresh-0.21.0\n"
          ]
        }
      ]
    },
    {
      "cell_type": "markdown",
      "source": [
        "# FILE UPLOAD"
      ],
      "metadata": {
        "id": "ps_nPUSv_6Tg"
      }
    },
    {
      "cell_type": "code",
      "source": [
        "# Upload files using the file upload widget\n",
        "from google.colab import files\n",
        "uploaded = files.upload()\n"
      ],
      "metadata": {
        "id": "L8WRcguX_8ry",
        "colab": {
          "base_uri": "https://localhost:8080/",
          "height": 906
        },
        "outputId": "49cdb47c-704d-4434-f400-0cae8a41bd1f"
      },
      "execution_count": 4,
      "outputs": [
        {
          "output_type": "display_data",
          "data": {
            "text/plain": [
              "<IPython.core.display.HTML object>"
            ],
            "text/html": [
              "\n",
              "     <input type=\"file\" id=\"files-4d8a26b4-7b35-4db4-8228-59d8bb22b0d0\" name=\"files[]\" multiple disabled\n",
              "        style=\"border:none\" />\n",
              "     <output id=\"result-4d8a26b4-7b35-4db4-8228-59d8bb22b0d0\">\n",
              "      Upload widget is only available when the cell has been executed in the\n",
              "      current browser session. Please rerun this cell to enable.\n",
              "      </output>\n",
              "      <script>// Copyright 2017 Google LLC\n",
              "//\n",
              "// Licensed under the Apache License, Version 2.0 (the \"License\");\n",
              "// you may not use this file except in compliance with the License.\n",
              "// You may obtain a copy of the License at\n",
              "//\n",
              "//      http://www.apache.org/licenses/LICENSE-2.0\n",
              "//\n",
              "// Unless required by applicable law or agreed to in writing, software\n",
              "// distributed under the License is distributed on an \"AS IS\" BASIS,\n",
              "// WITHOUT WARRANTIES OR CONDITIONS OF ANY KIND, either express or implied.\n",
              "// See the License for the specific language governing permissions and\n",
              "// limitations under the License.\n",
              "\n",
              "/**\n",
              " * @fileoverview Helpers for google.colab Python module.\n",
              " */\n",
              "(function(scope) {\n",
              "function span(text, styleAttributes = {}) {\n",
              "  const element = document.createElement('span');\n",
              "  element.textContent = text;\n",
              "  for (const key of Object.keys(styleAttributes)) {\n",
              "    element.style[key] = styleAttributes[key];\n",
              "  }\n",
              "  return element;\n",
              "}\n",
              "\n",
              "// Max number of bytes which will be uploaded at a time.\n",
              "const MAX_PAYLOAD_SIZE = 100 * 1024;\n",
              "\n",
              "function _uploadFiles(inputId, outputId) {\n",
              "  const steps = uploadFilesStep(inputId, outputId);\n",
              "  const outputElement = document.getElementById(outputId);\n",
              "  // Cache steps on the outputElement to make it available for the next call\n",
              "  // to uploadFilesContinue from Python.\n",
              "  outputElement.steps = steps;\n",
              "\n",
              "  return _uploadFilesContinue(outputId);\n",
              "}\n",
              "\n",
              "// This is roughly an async generator (not supported in the browser yet),\n",
              "// where there are multiple asynchronous steps and the Python side is going\n",
              "// to poll for completion of each step.\n",
              "// This uses a Promise to block the python side on completion of each step,\n",
              "// then passes the result of the previous step as the input to the next step.\n",
              "function _uploadFilesContinue(outputId) {\n",
              "  const outputElement = document.getElementById(outputId);\n",
              "  const steps = outputElement.steps;\n",
              "\n",
              "  const next = steps.next(outputElement.lastPromiseValue);\n",
              "  return Promise.resolve(next.value.promise).then((value) => {\n",
              "    // Cache the last promise value to make it available to the next\n",
              "    // step of the generator.\n",
              "    outputElement.lastPromiseValue = value;\n",
              "    return next.value.response;\n",
              "  });\n",
              "}\n",
              "\n",
              "/**\n",
              " * Generator function which is called between each async step of the upload\n",
              " * process.\n",
              " * @param {string} inputId Element ID of the input file picker element.\n",
              " * @param {string} outputId Element ID of the output display.\n",
              " * @return {!Iterable<!Object>} Iterable of next steps.\n",
              " */\n",
              "function* uploadFilesStep(inputId, outputId) {\n",
              "  const inputElement = document.getElementById(inputId);\n",
              "  inputElement.disabled = false;\n",
              "\n",
              "  const outputElement = document.getElementById(outputId);\n",
              "  outputElement.innerHTML = '';\n",
              "\n",
              "  const pickedPromise = new Promise((resolve) => {\n",
              "    inputElement.addEventListener('change', (e) => {\n",
              "      resolve(e.target.files);\n",
              "    });\n",
              "  });\n",
              "\n",
              "  const cancel = document.createElement('button');\n",
              "  inputElement.parentElement.appendChild(cancel);\n",
              "  cancel.textContent = 'Cancel upload';\n",
              "  const cancelPromise = new Promise((resolve) => {\n",
              "    cancel.onclick = () => {\n",
              "      resolve(null);\n",
              "    };\n",
              "  });\n",
              "\n",
              "  // Wait for the user to pick the files.\n",
              "  const files = yield {\n",
              "    promise: Promise.race([pickedPromise, cancelPromise]),\n",
              "    response: {\n",
              "      action: 'starting',\n",
              "    }\n",
              "  };\n",
              "\n",
              "  cancel.remove();\n",
              "\n",
              "  // Disable the input element since further picks are not allowed.\n",
              "  inputElement.disabled = true;\n",
              "\n",
              "  if (!files) {\n",
              "    return {\n",
              "      response: {\n",
              "        action: 'complete',\n",
              "      }\n",
              "    };\n",
              "  }\n",
              "\n",
              "  for (const file of files) {\n",
              "    const li = document.createElement('li');\n",
              "    li.append(span(file.name, {fontWeight: 'bold'}));\n",
              "    li.append(span(\n",
              "        `(${file.type || 'n/a'}) - ${file.size} bytes, ` +\n",
              "        `last modified: ${\n",
              "            file.lastModifiedDate ? file.lastModifiedDate.toLocaleDateString() :\n",
              "                                    'n/a'} - `));\n",
              "    const percent = span('0% done');\n",
              "    li.appendChild(percent);\n",
              "\n",
              "    outputElement.appendChild(li);\n",
              "\n",
              "    const fileDataPromise = new Promise((resolve) => {\n",
              "      const reader = new FileReader();\n",
              "      reader.onload = (e) => {\n",
              "        resolve(e.target.result);\n",
              "      };\n",
              "      reader.readAsArrayBuffer(file);\n",
              "    });\n",
              "    // Wait for the data to be ready.\n",
              "    let fileData = yield {\n",
              "      promise: fileDataPromise,\n",
              "      response: {\n",
              "        action: 'continue',\n",
              "      }\n",
              "    };\n",
              "\n",
              "    // Use a chunked sending to avoid message size limits. See b/62115660.\n",
              "    let position = 0;\n",
              "    do {\n",
              "      const length = Math.min(fileData.byteLength - position, MAX_PAYLOAD_SIZE);\n",
              "      const chunk = new Uint8Array(fileData, position, length);\n",
              "      position += length;\n",
              "\n",
              "      const base64 = btoa(String.fromCharCode.apply(null, chunk));\n",
              "      yield {\n",
              "        response: {\n",
              "          action: 'append',\n",
              "          file: file.name,\n",
              "          data: base64,\n",
              "        },\n",
              "      };\n",
              "\n",
              "      let percentDone = fileData.byteLength === 0 ?\n",
              "          100 :\n",
              "          Math.round((position / fileData.byteLength) * 100);\n",
              "      percent.textContent = `${percentDone}% done`;\n",
              "\n",
              "    } while (position < fileData.byteLength);\n",
              "  }\n",
              "\n",
              "  // All done.\n",
              "  yield {\n",
              "    response: {\n",
              "      action: 'complete',\n",
              "    }\n",
              "  };\n",
              "}\n",
              "\n",
              "scope.google = scope.google || {};\n",
              "scope.google.colab = scope.google.colab || {};\n",
              "scope.google.colab._files = {\n",
              "  _uploadFiles,\n",
              "  _uploadFilesContinue,\n",
              "};\n",
              "})(self);\n",
              "</script> "
            ]
          },
          "metadata": {}
        },
        {
          "output_type": "stream",
          "name": "stdout",
          "text": [
            "Saving processed_EPIC8.csv to processed_EPIC8.csv\n",
            "Saving processed_EPIC7.csv to processed_EPIC7.csv\n",
            "Saving processed_EPIC5.csv to processed_EPIC5.csv\n",
            "Saving processed_EPIC4.csv to processed_EPIC4.csv\n",
            "Saving processed_EPIC3.csv to processed_EPIC3.csv\n",
            "Saving processed_EPIC2.csv to processed_EPIC2.csv\n",
            "Saving processed_EPIC1.csv to processed_EPIC1.csv\n",
            "Saving 4Panda_denoised.csv to 4Panda_denoised.csv\n",
            "Saving 4Panda.csv to 4Panda.csv\n",
            "Saving 4Mosaik_denoised.csv to 4Mosaik_denoised.csv\n",
            "Saving 4Mosaik.csv to 4Mosaik.csv\n",
            "Saving 3Panda_denoised.csv to 3Panda_denoised.csv\n",
            "Saving 3Panda.csv to 3Panda.csv\n",
            "Saving 3Mosaik_denoised.csv to 3Mosaik_denoised.csv\n",
            "Saving 3Mosaik.csv to 3Mosaik.csv\n",
            "Saving 2Panda_denoised.csv to 2Panda_denoised.csv\n",
            "Saving 2Panda.csv to 2Panda.csv\n",
            "Saving 2Mosaik_denoised.csv to 2Mosaik_denoised.csv\n",
            "Saving 2Mosaik.csv to 2Mosaik.csv\n",
            "Saving 2GAN.csv to 2GAN.csv\n",
            "Saving 1Panda_denoised.csv to 1Panda_denoised.csv\n",
            "Saving 1Panda.csv to 1Panda.csv\n",
            "Saving 1Mosaik_denoised.csv to 1Mosaik_denoised.csv\n",
            "Saving 1Mosaik.csv to 1Mosaik.csv\n",
            "Saving 1GAN.csv to 1GAN.csv\n"
          ]
        }
      ]
    },
    {
      "cell_type": "markdown",
      "source": [
        "# HELPER FUNCTIONS"
      ],
      "metadata": {
        "id": "aYGBfcMw_93I"
      }
    },
    {
      "cell_type": "code",
      "source": [
        "import os\n",
        "import pandas as pd\n",
        "import numpy as np\n",
        "import matplotlib.pyplot as plt\n",
        "import joblib\n",
        "from IPython.display import display, Markdown\n",
        "import galileo\n",
        "\n",
        "def parse_file_list(file_string):\n",
        "    \"\"\"Parse a comma-separated string of filenames into a list, with wildcard support.\"\"\"\n",
        "    import glob\n",
        "\n",
        "    if not file_string or file_string.strip() == '':\n",
        "        return []\n",
        "\n",
        "    # Split by comma and strip spaces\n",
        "    patterns = [f.strip() for f in file_string.split(',')]\n",
        "\n",
        "    files = []\n",
        "    for pattern in patterns:\n",
        "        # If pattern contains wildcard, use glob to expand it\n",
        "        if '*' in pattern:\n",
        "            matched_files = glob.glob(pattern)\n",
        "            if matched_files:\n",
        "                files.extend(matched_files)\n",
        "            else:\n",
        "                print(f\"⚠️ Warning: No files found matching pattern: {pattern}\")\n",
        "        else:\n",
        "            # Regular file path\n",
        "            files.append(pattern)\n",
        "\n",
        "    # Verify files exist\n",
        "    missing = [f for f in files if not os.path.exists(f)]\n",
        "    if missing:\n",
        "        print(f\"⚠️ Warning: The following files were not found: {', '.join(missing)}\")\n",
        "\n",
        "    # Return only existing files\n",
        "    return [f for f in files if os.path.exists(f)]\n",
        "\n",
        "def display_results(results, file_path):\n",
        "    \"\"\"Display analysis results in a formatted way and return metrics for confusion matrix.\"\"\"\n",
        "    if not results:\n",
        "        display(Markdown(\"### ❌ Analysis failed. Please check the error messages above.\"))\n",
        "        return None\n",
        "\n",
        "    classification = results['classification']\n",
        "    confidence = results['confidence']\n",
        "    window_predictions = results['window_predictions']\n",
        "\n",
        "    # Calculate window statistics\n",
        "    real_windows = sum(window_predictions)\n",
        "    simulated_windows = len(window_predictions) - real_windows\n",
        "    real_pct = real_windows/len(window_predictions)*100\n",
        "    sim_pct = simulated_windows/len(window_predictions)*100\n",
        "\n",
        "    # Use color based on classification\n",
        "    color = \"green\" if classification == \"REAL\" else \"red\"\n",
        "    confidence_str = f\"<span style='color:{color};font-weight:bold;'>{confidence}%</span>\"\n",
        "\n",
        "    # Display results\n",
        "    display(Markdown(f\"### Analysis Results\"))\n",
        "    display(Markdown(f\"**Classification:** <span style='color:{color};font-weight:bold;'>{classification}</span>\"))\n",
        "    display(Markdown(f\"**Confidence:** {confidence_str}\"))\n",
        "    display(Markdown(f\"### Window Statistics\"))\n",
        "    display(Markdown(f\"Total windows analyzed: **{len(window_predictions)}**\"))\n",
        "    display(Markdown(f\"Windows classified as real: **{real_windows}** ({real_pct:.1f}%)\"))\n",
        "    display(Markdown(f\"Windows classified as simulated: **{simulated_windows}** ({sim_pct:.1f}%)\"))\n",
        "\n",
        "    # Determine ground truth (real if \"EPIC\" in filename)\n",
        "    is_real_ground_truth = \"EPIC\" in file_path\n",
        "\n",
        "    # Calculate file-level metric\n",
        "    file_true_positive = 1 if is_real_ground_truth and classification == \"REAL\" else 0\n",
        "    file_false_positive = 1 if not is_real_ground_truth and classification == \"REAL\" else 0\n",
        "    file_true_negative = 1 if not is_real_ground_truth and classification == \"SIMULATED\" else 0\n",
        "    file_false_negative = 1 if is_real_ground_truth and classification == \"SIMULATED\" else 0\n",
        "\n",
        "    # Calculate window-level metrics\n",
        "    if is_real_ground_truth:\n",
        "        window_true_positives = real_windows\n",
        "        window_false_negatives = simulated_windows\n",
        "        window_true_negatives = 0\n",
        "        window_false_positives = 0\n",
        "    else:\n",
        "        window_true_positives = 0\n",
        "        window_false_negatives = 0\n",
        "        window_true_negatives = simulated_windows\n",
        "        window_false_positives = real_windows\n",
        "\n",
        "    return {\n",
        "        \"file_metrics\": (file_true_positive, file_false_positive, file_true_negative, file_false_negative),\n",
        "        \"window_metrics\": (window_true_positives, window_false_positives, window_true_negatives, window_false_negatives),\n",
        "        \"total_windows\": len(window_predictions)\n",
        "    }\n",
        "\n",
        "def display_confusion_matrix_summary(all_metrics):\n",
        "    \"\"\"Display a summary of the confusion matrix metrics as a list.\"\"\"\n",
        "    # Unpack file metrics\n",
        "    file_tp = sum(m[\"file_metrics\"][0] for m in all_metrics if m)\n",
        "    file_fp = sum(m[\"file_metrics\"][1] for m in all_metrics if m)\n",
        "    file_tn = sum(m[\"file_metrics\"][2] for m in all_metrics if m)\n",
        "    file_fn = sum(m[\"file_metrics\"][3] for m in all_metrics if m)\n",
        "\n",
        "    # Unpack window metrics\n",
        "    window_tp = sum(m[\"window_metrics\"][0] for m in all_metrics if m)\n",
        "    window_fp = sum(m[\"window_metrics\"][1] for m in all_metrics if m)\n",
        "    window_tn = sum(m[\"window_metrics\"][2] for m in all_metrics if m)\n",
        "    window_fn = sum(m[\"window_metrics\"][3] for m in all_metrics if m)\n",
        "\n",
        "    # Calculate file-level metrics\n",
        "    file_accuracy = (file_tp + file_tn) / (file_tp + file_tn + file_fp + file_fn) if (file_tp + file_tn + file_fp + file_fn) > 0 else 0\n",
        "\n",
        "    # Calculate window-level metrics\n",
        "    total_windows = sum(m[\"total_windows\"] for m in all_metrics if m)\n",
        "    window_accuracy = (window_tp + window_tn) / total_windows if total_windows > 0 else 0\n",
        "\n",
        "    # Display the metrics as lists\n",
        "    display(Markdown(\"# Classification Performance Summary\"))\n",
        "\n",
        "    # File-level metrics\n",
        "    display(Markdown(\"## File-Level Metrics\"))\n",
        "    display(Markdown(\"**Actual REAL (EPIC files)**\"))\n",
        "    display(Markdown(f\"- True Positives: {file_tp}\"))\n",
        "    display(Markdown(f\"- False Negatives: {file_fn}\"))\n",
        "\n",
        "    display(Markdown(\"**Actual SIMULATED (non-EPIC files)**\"))\n",
        "    display(Markdown(f\"- False Positives: {file_fp}\"))\n",
        "    display(Markdown(f\"- True Negatives: {file_tn}\"))\n",
        "\n",
        "    display(Markdown(f\"**Accuracy:** {file_accuracy:.2%}\"))\n",
        "\n",
        "    # Window-level metrics\n",
        "    display(Markdown(\"## Window-Level Metrics\"))\n",
        "    display(Markdown(\"**Actual REAL (from EPIC files)**\"))\n",
        "    display(Markdown(f\"- True Positives: {window_tp}\"))\n",
        "    display(Markdown(f\"- False Negatives: {window_fn}\"))\n",
        "\n",
        "    display(Markdown(\"**Actual SIMULATED (from non-EPIC files)**\"))\n",
        "    display(Markdown(f\"- False Positives: {window_fp}\"))\n",
        "    display(Markdown(f\"- True Negatives: {window_tn}\"))\n",
        "\n",
        "    display(Markdown(f\"**Accuracy:** {window_accuracy:.2%}\"))"
      ],
      "metadata": {
        "id": "UEuE84H7-Z6M"
      },
      "execution_count": 5,
      "outputs": []
    },
    {
      "cell_type": "markdown",
      "source": [
        "# TRAINING\n",
        "Set training parameters as strings (real_files_str, simulated_fles_str, target_column)\n"
      ],
      "metadata": {
        "id": "HA89IMqw-mPU"
      }
    },
    {
      "cell_type": "code",
      "source": [
        "# Set your training parameters as strings\n",
        "\n",
        "# Comma-separated list of files containing real power plant data\n",
        "real_files_str = \"processed_EPIC4.csv, processed_EPIC6.csv\"\n",
        "\n",
        "# Comma-separated list of files containing simulated power plant data\n",
        "simulated_files_str = \"1Panda.csv, 3Mosaik.csv, 4Mosaik_denoised.csv\"\n",
        "\n",
        "# Specific column to analyze (leave blank to analyze all columns)\n",
        "# Examples: \"V1\", \"C2\", \"frequency\"\n",
        "target_column = \"V1\"\n",
        "\n",
        "\n",
        "\n",
        "\n",
        "\n",
        "\n",
        "# Path where the trained model will be saved\n",
        "model_path = \"svm_model.joblib\"\n",
        "\n",
        "\n",
        "real_files = parse_file_list(real_files_str)\n",
        "simulated_files = parse_file_list(simulated_files_str)\n",
        "\n",
        "# Show summary of parameters\n",
        "print(f\"Real data files: {len(real_files)} file(s)\")\n",
        "for f in real_files:\n",
        "    print(f\"  - {f}\")\n",
        "\n",
        "print(f\"\\nSimulated data files: {len(simulated_files)} file(s)\")\n",
        "for f in simulated_files:\n",
        "    print(f\"  - {f}\")\n",
        "\n",
        "print(f\"\\nModel will be saved to: {model_path}\")\n",
        "\n",
        "if target_column:\n",
        "    print(f\"Training will focus on column: {target_column}\")\n",
        "else:\n",
        "    print(\"Training will analyze all available columns\")\n",
        "\n",
        "# Execute training if files are available\n",
        "if real_files and simulated_files:\n",
        "    print(\"\\nStarting training...\\n\")\n",
        "\n",
        "    # Prepare training data + labels\n",
        "    training_files = real_files + simulated_files\n",
        "    labels = [1] * len(real_files) + [0] * len(simulated_files)\n",
        "\n",
        "    # Train model\n",
        "    target_col = target_column if target_column else None\n",
        "    success = galileo.train_and_save_model(training_files, labels, model_path, target_column=target_col)\n",
        "\n",
        "    if success:\n",
        "        print(\"\\n✅ Training completed successfully!\")\n",
        "\n",
        "        # Display feature importance plot if it exists\n",
        "        if os.path.exists('feature_importance.png'):\n",
        "            plt.figure(figsize=(12, 6))\n",
        "            img = plt.imread('feature_importance.png')\n",
        "            plt.imshow(img)\n",
        "            plt.axis('off')\n",
        "            plt.show()\n",
        "    else:\n",
        "        print(\"\\n❌ Training failed. Please check the error messages above.\")\n",
        "else:\n",
        "    print(\"\\n❌ ERROR: Both real and simulated files are required for training\")"
      ],
      "metadata": {
        "colab": {
          "base_uri": "https://localhost:8080/",
          "height": 1000
        },
        "id": "QhJhdrXl9vlW",
        "outputId": "aecf2d3a-3473-414e-f3d8-4f5e51bb7669"
      },
      "execution_count": 6,
      "outputs": [
        {
          "output_type": "stream",
          "name": "stdout",
          "text": [
            "⚠️ Warning: The following files were not found: processed_EPIC6.csv\n",
            "Real data files: 1 file(s)\n",
            "  - processed_EPIC4.csv\n",
            "\n",
            "Simulated data files: 3 file(s)\n",
            "  - 1Panda.csv\n",
            "  - 3Mosaik.csv\n",
            "  - 4Mosaik_denoised.csv\n",
            "\n",
            "Model will be saved to: svm_model.joblib\n",
            "Training will focus on column: V1\n",
            "\n",
            "Starting training...\n",
            "\n",
            "\n",
            "Top 10 Most Important Features:\n",
            "               Feature  Importance\n",
            "           V1_std_perc    0.167611\n",
            "                V1_std    0.107965\n",
            "V1_permutation_entropy    0.094336\n",
            "            V1_n_peaks    0.044425\n",
            "           V1_variance    0.021593\n",
            "             V1_lempev    0.006372\n",
            "     V1_approx_entropy    0.003717\n",
            "           V1_autocorr    0.002301\n",
            "           V1_skewness    0.001239\n",
            " V1_longest_below_mean    0.000177\n",
            "\n",
            "Model saved to svm_model.joblib\n",
            "Feature importance plot saved as 'feature_importance.png'\n",
            "\n",
            "✅ Training completed successfully!\n"
          ]
        },
        {
          "output_type": "display_data",
          "data": {
            "text/plain": [
              "<Figure size 1200x600 with 1 Axes>"
            ],
            "image/png": "[encoded data removed]"
          },
          "metadata": {}
        }
      ]
    },
    {
      "cell_type": "markdown",
      "source": [
        "# TESTING\n",
        "Set testing parameter as string (csv_files_str, target_column).\n",
        "\n",
        "Example:\n",
        "*   csv_files_str = \"*.csv\"\n",
        "*   csv_files_str = \"4Panda.csv\"\n",
        "*   csv_files_str = \"2Panda.csv, processed_EPIC4.csv\"\n",
        "\n",
        "\n",
        "\n"
      ],
      "metadata": {
        "id": "PEOZQd0P-171"
      }
    },
    {
      "cell_type": "code",
      "source": [
        "# Set your analysis parameters as strings\n",
        "csv_files_str = \"*.csv\"  # Comma-separated list of files to analyze\n",
        "target_column = \"\"  # Specific column to analyze (leave blank to use what the model was trained on)\n",
        "\n",
        "\n",
        "\n",
        "\n",
        "\n",
        "\n",
        "\n",
        "model_path = \"svm_model.joblib\"  # Path to your trained model\n",
        "\n",
        "# Parse the file list\n",
        "csv_files = parse_file_list(csv_files_str)\n",
        "\n",
        "print(f\"Files to analyze one by one: {len(csv_files)} file(s)\")\n",
        "for f in csv_files:\n",
        "    print(f\"  - {f}\")\n",
        "\n",
        "# Check if model exists\n",
        "if not os.path.exists(model_path):\n",
        "    print(f\"\\n❌ ERROR: Model file '{model_path}' not found\")\n",
        "\n",
        "if target_column:\n",
        "    print(f\"Analysis will focus on column: {target_column}\")\n",
        "else:\n",
        "    print(\"Analysis will use the column(s) the model was trained on\")\n",
        "\n",
        "# Set up target column parameter\n",
        "target_col = target_column if target_column else None\n",
        "\n",
        "# Store all metrics for final summary\n",
        "all_metrics = []\n",
        "\n",
        "# Test each file one by one\n",
        "if csv_files and os.path.exists(model_path):\n",
        "    for i, file_path in enumerate(csv_files):\n",
        "        print(f\"\\n{'='*50}\")\n",
        "        print(f\"ANALYZING FILE {i+1}/{len(csv_files)}: {file_path}\")\n",
        "        print(f\"{'='*50}\\n\")\n",
        "\n",
        "        # Analyze the file\n",
        "        results = galileo.analyze_with_model(file_path, model_path, target_column=target_col)\n",
        "\n",
        "        # Display results and capture metrics\n",
        "        if results:\n",
        "            metrics = display_results(results, file_path)\n",
        "            all_metrics.append(metrics)\n",
        "            # Add a markdown separator for better visual organization\n",
        "            display(Markdown(\"---\"))\n",
        "        else:\n",
        "            print(f\"❌ Analysis failed for {file_path}\")\n",
        "            display(Markdown(\"---\"))\n",
        "\n",
        "    print(\"\\nAll files have been analyzed.\")\n",
        "\n",
        "    # Display final confusion matrix summary\n",
        "    display_confusion_matrix_summary(all_metrics)\n",
        "else:\n",
        "    print(\"\\nAnalysis skipped due to missing files or model.\")"
      ],
      "metadata": {
        "colab": {
          "base_uri": "https://localhost:8080/",
          "height": 1000
        },
        "id": "V5JhQ_PN-3o_",
        "outputId": "f4e9f26f-7a1e-49c4-896e-ec71834bfa68"
      },
      "execution_count": 7,
      "outputs": [
        {
          "output_type": "stream",
          "name": "stdout",
          "text": [
            "Files to analyze one by one: 25 file(s)\n",
            "  - 4Panda.csv\n",
            "  - 4Mosaik.csv\n",
            "  - 2GAN.csv\n",
            "  - 3Mosaik_denoised.csv\n",
            "  - 2Mosaik_denoised.csv\n",
            "  - processed_EPIC8.csv\n",
            "  - 2Mosaik.csv\n",
            "  - processed_EPIC7.csv\n",
            "  - 2Panda_denoised.csv\n",
            "  - 4Panda_denoised.csv\n",
            "  - processed_EPIC5.csv\n",
            "  - processed_EPIC1.csv\n",
            "  - 4Mosaik_denoised.csv\n",
            "  - 3Mosaik.csv\n",
            "  - 1Panda_denoised.csv\n",
            "  - 2Panda.csv\n",
            "  - 3Panda.csv\n",
            "  - 1Mosaik_denoised.csv\n",
            "  - 1Panda.csv\n",
            "  - processed_EPIC3.csv\n",
            "  - 1GAN.csv\n",
            "  - processed_EPIC2.csv\n",
            "  - 1Mosaik.csv\n",
            "  - 3Panda_denoised.csv\n",
            "  - processed_EPIC4.csv\n",
            "Analysis will use the column(s) the model was trained on\n",
            "\n",
            "==================================================\n",
            "ANALYZING FILE 1/25: 4Panda.csv\n",
            "==================================================\n",
            "\n",
            "Analyzing only column: V1\n"
          ]
        },
        {
          "output_type": "display_data",
          "data": {
            "text/plain": [
              "<IPython.core.display.Markdown object>"
            ],
            "text/markdown": "### Analysis Results"
          },
          "metadata": {}
        },
        {
          "output_type": "display_data",
          "data": {
            "text/plain": [
              "<IPython.core.display.Markdown object>"
            ],
            "text/markdown": "**Classification:** <span style='color:red;font-weight:bold;'>SIMULATED</span>"
          },
          "metadata": {}
        },
        {
          "output_type": "display_data",
          "data": {
            "text/plain": [
              "<IPython.core.display.Markdown object>"
            ],
            "text/markdown": "**Confidence:** <span style='color:red;font-weight:bold;'>99%</span>"
          },
          "metadata": {}
        },
        {
          "output_type": "display_data",
          "data": {
            "text/plain": [
              "<IPython.core.display.Markdown object>"
            ],
            "text/markdown": "### Window Statistics"
          },
          "metadata": {}
        },
        {
          "output_type": "display_data",
          "data": {
            "text/plain": [
              "<IPython.core.display.Markdown object>"
            ],
            "text/markdown": "Total windows analyzed: **79**"
          },
          "metadata": {}
        },
        {
          "output_type": "display_data",
          "data": {
            "text/plain": [
              "<IPython.core.display.Markdown object>"
            ],
            "text/markdown": "Windows classified as real: **2** (2.5%)"
          },
          "metadata": {}
        },
        {
          "output_type": "display_data",
          "data": {
            "text/plain": [
              "<IPython.core.display.Markdown object>"
            ],
            "text/markdown": "Windows classified as simulated: **77** (97.5%)"
          },
          "metadata": {}
        },
        {
          "output_type": "display_data",
          "data": {
            "text/plain": [
              "<IPython.core.display.Markdown object>"
            ],
            "text/markdown": "---"
          },
          "metadata": {}
        },
        {
          "output_type": "stream",
          "name": "stdout",
          "text": [
            "\n",
            "==================================================\n",
            "ANALYZING FILE 2/25: 4Mosaik.csv\n",
            "==================================================\n",
            "\n",
            "Analyzing only column: V1\n"
          ]
        },
        {
          "output_type": "display_data",
          "data": {
            "text/plain": [
              "<IPython.core.display.Markdown object>"
            ],
            "text/markdown": "### Analysis Results"
          },
          "metadata": {}
        },
        {
          "output_type": "display_data",
          "data": {
            "text/plain": [
              "<IPython.core.display.Markdown object>"
            ],
            "text/markdown": "**Classification:** <span style='color:red;font-weight:bold;'>SIMULATED</span>"
          },
          "metadata": {}
        },
        {
          "output_type": "display_data",
          "data": {
            "text/plain": [
              "<IPython.core.display.Markdown object>"
            ],
            "text/markdown": "**Confidence:** <span style='color:red;font-weight:bold;'>98%</span>"
          },
          "metadata": {}
        },
        {
          "output_type": "display_data",
          "data": {
            "text/plain": [
              "<IPython.core.display.Markdown object>"
            ],
            "text/markdown": "### Window Statistics"
          },
          "metadata": {}
        },
        {
          "output_type": "display_data",
          "data": {
            "text/plain": [
              "<IPython.core.display.Markdown object>"
            ],
            "text/markdown": "Total windows analyzed: **59**"
          },
          "metadata": {}
        },
        {
          "output_type": "display_data",
          "data": {
            "text/plain": [
              "<IPython.core.display.Markdown object>"
            ],
            "text/markdown": "Windows classified as real: **0** (0.0%)"
          },
          "metadata": {}
        },
        {
          "output_type": "display_data",
          "data": {
            "text/plain": [
              "<IPython.core.display.Markdown object>"
            ],
            "text/markdown": "Windows classified as simulated: **59** (100.0%)"
          },
          "metadata": {}
        },
        {
          "output_type": "display_data",
          "data": {
            "text/plain": [
              "<IPython.core.display.Markdown object>"
            ],
            "text/markdown": "---"
          },
          "metadata": {}
        },
        {
          "output_type": "stream",
          "name": "stdout",
          "text": [
            "\n",
            "==================================================\n",
            "ANALYZING FILE 3/25: 2GAN.csv\n",
            "==================================================\n",
            "\n",
            "Analyzing only column: V1\n"
          ]
        },
        {
          "output_type": "display_data",
          "data": {
            "text/plain": [
              "<IPython.core.display.Markdown object>"
            ],
            "text/markdown": "### Analysis Results"
          },
          "metadata": {}
        },
        {
          "output_type": "display_data",
          "data": {
            "text/plain": [
              "<IPython.core.display.Markdown object>"
            ],
            "text/markdown": "**Classification:** <span style='color:red;font-weight:bold;'>SIMULATED</span>"
          },
          "metadata": {}
        },
        {
          "output_type": "display_data",
          "data": {
            "text/plain": [
              "<IPython.core.display.Markdown object>"
            ],
            "text/markdown": "**Confidence:** <span style='color:red;font-weight:bold;'>78%</span>"
          },
          "metadata": {}
        },
        {
          "output_type": "display_data",
          "data": {
            "text/plain": [
              "<IPython.core.display.Markdown object>"
            ],
            "text/markdown": "### Window Statistics"
          },
          "metadata": {}
        },
        {
          "output_type": "display_data",
          "data": {
            "text/plain": [
              "<IPython.core.display.Markdown object>"
            ],
            "text/markdown": "Total windows analyzed: **184**"
          },
          "metadata": {}
        },
        {
          "output_type": "display_data",
          "data": {
            "text/plain": [
              "<IPython.core.display.Markdown object>"
            ],
            "text/markdown": "Windows classified as real: **0** (0.0%)"
          },
          "metadata": {}
        },
        {
          "output_type": "display_data",
          "data": {
            "text/plain": [
              "<IPython.core.display.Markdown object>"
            ],
            "text/markdown": "Windows classified as simulated: **184** (100.0%)"
          },
          "metadata": {}
        },
        {
          "output_type": "display_data",
          "data": {
            "text/plain": [
              "<IPython.core.display.Markdown object>"
            ],
            "text/markdown": "---"
          },
          "metadata": {}
        },
        {
          "output_type": "stream",
          "name": "stdout",
          "text": [
            "\n",
            "==================================================\n",
            "ANALYZING FILE 4/25: 3Mosaik_denoised.csv\n",
            "==================================================\n",
            "\n",
            "Analyzing only column: V1\n"
          ]
        },
        {
          "output_type": "display_data",
          "data": {
            "text/plain": [
              "<IPython.core.display.Markdown object>"
            ],
            "text/markdown": "### Analysis Results"
          },
          "metadata": {}
        },
        {
          "output_type": "display_data",
          "data": {
            "text/plain": [
              "<IPython.core.display.Markdown object>"
            ],
            "text/markdown": "**Classification:** <span style='color:red;font-weight:bold;'>SIMULATED</span>"
          },
          "metadata": {}
        },
        {
          "output_type": "display_data",
          "data": {
            "text/plain": [
              "<IPython.core.display.Markdown object>"
            ],
            "text/markdown": "**Confidence:** <span style='color:red;font-weight:bold;'>98%</span>"
          },
          "metadata": {}
        },
        {
          "output_type": "display_data",
          "data": {
            "text/plain": [
              "<IPython.core.display.Markdown object>"
            ],
            "text/markdown": "### Window Statistics"
          },
          "metadata": {}
        },
        {
          "output_type": "display_data",
          "data": {
            "text/plain": [
              "<IPython.core.display.Markdown object>"
            ],
            "text/markdown": "Total windows analyzed: **99**"
          },
          "metadata": {}
        },
        {
          "output_type": "display_data",
          "data": {
            "text/plain": [
              "<IPython.core.display.Markdown object>"
            ],
            "text/markdown": "Windows classified as real: **2** (2.0%)"
          },
          "metadata": {}
        },
        {
          "output_type": "display_data",
          "data": {
            "text/plain": [
              "<IPython.core.display.Markdown object>"
            ],
            "text/markdown": "Windows classified as simulated: **97** (98.0%)"
          },
          "metadata": {}
        },
        {
          "output_type": "display_data",
          "data": {
            "text/plain": [
              "<IPython.core.display.Markdown object>"
            ],
            "text/markdown": "---"
          },
          "metadata": {}
        },
        {
          "output_type": "stream",
          "name": "stdout",
          "text": [
            "\n",
            "==================================================\n",
            "ANALYZING FILE 5/25: 2Mosaik_denoised.csv\n",
            "==================================================\n",
            "\n",
            "Analyzing only column: V1\n"
          ]
        },
        {
          "output_type": "display_data",
          "data": {
            "text/plain": [
              "<IPython.core.display.Markdown object>"
            ],
            "text/markdown": "### Analysis Results"
          },
          "metadata": {}
        },
        {
          "output_type": "display_data",
          "data": {
            "text/plain": [
              "<IPython.core.display.Markdown object>"
            ],
            "text/markdown": "**Classification:** <span style='color:red;font-weight:bold;'>SIMULATED</span>"
          },
          "metadata": {}
        },
        {
          "output_type": "display_data",
          "data": {
            "text/plain": [
              "<IPython.core.display.Markdown object>"
            ],
            "text/markdown": "**Confidence:** <span style='color:red;font-weight:bold;'>98%</span>"
          },
          "metadata": {}
        },
        {
          "output_type": "display_data",
          "data": {
            "text/plain": [
              "<IPython.core.display.Markdown object>"
            ],
            "text/markdown": "### Window Statistics"
          },
          "metadata": {}
        },
        {
          "output_type": "display_data",
          "data": {
            "text/plain": [
              "<IPython.core.display.Markdown object>"
            ],
            "text/markdown": "Total windows analyzed: **599**"
          },
          "metadata": {}
        },
        {
          "output_type": "display_data",
          "data": {
            "text/plain": [
              "<IPython.core.display.Markdown object>"
            ],
            "text/markdown": "Windows classified as real: **10** (1.7%)"
          },
          "metadata": {}
        },
        {
          "output_type": "display_data",
          "data": {
            "text/plain": [
              "<IPython.core.display.Markdown object>"
            ],
            "text/markdown": "Windows classified as simulated: **589** (98.3%)"
          },
          "metadata": {}
        },
        {
          "output_type": "display_data",
          "data": {
            "text/plain": [
              "<IPython.core.display.Markdown object>"
            ],
            "text/markdown": "---"
          },
          "metadata": {}
        },
        {
          "output_type": "stream",
          "name": "stdout",
          "text": [
            "\n",
            "==================================================\n",
            "ANALYZING FILE 6/25: processed_EPIC8.csv\n",
            "==================================================\n",
            "\n",
            "Analyzing only column: V1\n"
          ]
        },
        {
          "output_type": "display_data",
          "data": {
            "text/plain": [
              "<IPython.core.display.Markdown object>"
            ],
            "text/markdown": "### Analysis Results"
          },
          "metadata": {}
        },
        {
          "output_type": "display_data",
          "data": {
            "text/plain": [
              "<IPython.core.display.Markdown object>"
            ],
            "text/markdown": "**Classification:** <span style='color:green;font-weight:bold;'>REAL</span>"
          },
          "metadata": {}
        },
        {
          "output_type": "display_data",
          "data": {
            "text/plain": [
              "<IPython.core.display.Markdown object>"
            ],
            "text/markdown": "**Confidence:** <span style='color:green;font-weight:bold;'>97%</span>"
          },
          "metadata": {}
        },
        {
          "output_type": "display_data",
          "data": {
            "text/plain": [
              "<IPython.core.display.Markdown object>"
            ],
            "text/markdown": "### Window Statistics"
          },
          "metadata": {}
        },
        {
          "output_type": "display_data",
          "data": {
            "text/plain": [
              "<IPython.core.display.Markdown object>"
            ],
            "text/markdown": "Total windows analyzed: **138**"
          },
          "metadata": {}
        },
        {
          "output_type": "display_data",
          "data": {
            "text/plain": [
              "<IPython.core.display.Markdown object>"
            ],
            "text/markdown": "Windows classified as real: **136** (98.6%)"
          },
          "metadata": {}
        },
        {
          "output_type": "display_data",
          "data": {
            "text/plain": [
              "<IPython.core.display.Markdown object>"
            ],
            "text/markdown": "Windows classified as simulated: **2** (1.4%)"
          },
          "metadata": {}
        },
        {
          "output_type": "display_data",
          "data": {
            "text/plain": [
              "<IPython.core.display.Markdown object>"
            ],
            "text/markdown": "---"
          },
          "metadata": {}
        },
        {
          "output_type": "stream",
          "name": "stdout",
          "text": [
            "\n",
            "==================================================\n",
            "ANALYZING FILE 7/25: 2Mosaik.csv\n",
            "==================================================\n",
            "\n",
            "Analyzing only column: V1\n"
          ]
        },
        {
          "output_type": "display_data",
          "data": {
            "text/plain": [
              "<IPython.core.display.Markdown object>"
            ],
            "text/markdown": "### Analysis Results"
          },
          "metadata": {}
        },
        {
          "output_type": "display_data",
          "data": {
            "text/plain": [
              "<IPython.core.display.Markdown object>"
            ],
            "text/markdown": "**Classification:** <span style='color:red;font-weight:bold;'>SIMULATED</span>"
          },
          "metadata": {}
        },
        {
          "output_type": "display_data",
          "data": {
            "text/plain": [
              "<IPython.core.display.Markdown object>"
            ],
            "text/markdown": "**Confidence:** <span style='color:red;font-weight:bold;'>98%</span>"
          },
          "metadata": {}
        },
        {
          "output_type": "display_data",
          "data": {
            "text/plain": [
              "<IPython.core.display.Markdown object>"
            ],
            "text/markdown": "### Window Statistics"
          },
          "metadata": {}
        },
        {
          "output_type": "display_data",
          "data": {
            "text/plain": [
              "<IPython.core.display.Markdown object>"
            ],
            "text/markdown": "Total windows analyzed: **599**"
          },
          "metadata": {}
        },
        {
          "output_type": "display_data",
          "data": {
            "text/plain": [
              "<IPython.core.display.Markdown object>"
            ],
            "text/markdown": "Windows classified as real: **5** (0.8%)"
          },
          "metadata": {}
        },
        {
          "output_type": "display_data",
          "data": {
            "text/plain": [
              "<IPython.core.display.Markdown object>"
            ],
            "text/markdown": "Windows classified as simulated: **594** (99.2%)"
          },
          "metadata": {}
        },
        {
          "output_type": "display_data",
          "data": {
            "text/plain": [
              "<IPython.core.display.Markdown object>"
            ],
            "text/markdown": "---"
          },
          "metadata": {}
        },
        {
          "output_type": "stream",
          "name": "stdout",
          "text": [
            "\n",
            "==================================================\n",
            "ANALYZING FILE 8/25: processed_EPIC7.csv\n",
            "==================================================\n",
            "\n",
            "Analyzing only column: V1\n"
          ]
        },
        {
          "output_type": "display_data",
          "data": {
            "text/plain": [
              "<IPython.core.display.Markdown object>"
            ],
            "text/markdown": "### Analysis Results"
          },
          "metadata": {}
        },
        {
          "output_type": "display_data",
          "data": {
            "text/plain": [
              "<IPython.core.display.Markdown object>"
            ],
            "text/markdown": "**Classification:** <span style='color:green;font-weight:bold;'>REAL</span>"
          },
          "metadata": {}
        },
        {
          "output_type": "display_data",
          "data": {
            "text/plain": [
              "<IPython.core.display.Markdown object>"
            ],
            "text/markdown": "**Confidence:** <span style='color:green;font-weight:bold;'>98%</span>"
          },
          "metadata": {}
        },
        {
          "output_type": "display_data",
          "data": {
            "text/plain": [
              "<IPython.core.display.Markdown object>"
            ],
            "text/markdown": "### Window Statistics"
          },
          "metadata": {}
        },
        {
          "output_type": "display_data",
          "data": {
            "text/plain": [
              "<IPython.core.display.Markdown object>"
            ],
            "text/markdown": "Total windows analyzed: **95**"
          },
          "metadata": {}
        },
        {
          "output_type": "display_data",
          "data": {
            "text/plain": [
              "<IPython.core.display.Markdown object>"
            ],
            "text/markdown": "Windows classified as real: **95** (100.0%)"
          },
          "metadata": {}
        },
        {
          "output_type": "display_data",
          "data": {
            "text/plain": [
              "<IPython.core.display.Markdown object>"
            ],
            "text/markdown": "Windows classified as simulated: **0** (0.0%)"
          },
          "metadata": {}
        },
        {
          "output_type": "display_data",
          "data": {
            "text/plain": [
              "<IPython.core.display.Markdown object>"
            ],
            "text/markdown": "---"
          },
          "metadata": {}
        },
        {
          "output_type": "stream",
          "name": "stdout",
          "text": [
            "\n",
            "==================================================\n",
            "ANALYZING FILE 9/25: 2Panda_denoised.csv\n",
            "==================================================\n",
            "\n",
            "Analyzing only column: V1\n"
          ]
        },
        {
          "output_type": "display_data",
          "data": {
            "text/plain": [
              "<IPython.core.display.Markdown object>"
            ],
            "text/markdown": "### Analysis Results"
          },
          "metadata": {}
        },
        {
          "output_type": "display_data",
          "data": {
            "text/plain": [
              "<IPython.core.display.Markdown object>"
            ],
            "text/markdown": "**Classification:** <span style='color:red;font-weight:bold;'>SIMULATED</span>"
          },
          "metadata": {}
        },
        {
          "output_type": "display_data",
          "data": {
            "text/plain": [
              "<IPython.core.display.Markdown object>"
            ],
            "text/markdown": "**Confidence:** <span style='color:red;font-weight:bold;'>98%</span>"
          },
          "metadata": {}
        },
        {
          "output_type": "display_data",
          "data": {
            "text/plain": [
              "<IPython.core.display.Markdown object>"
            ],
            "text/markdown": "### Window Statistics"
          },
          "metadata": {}
        },
        {
          "output_type": "display_data",
          "data": {
            "text/plain": [
              "<IPython.core.display.Markdown object>"
            ],
            "text/markdown": "Total windows analyzed: **599**"
          },
          "metadata": {}
        },
        {
          "output_type": "display_data",
          "data": {
            "text/plain": [
              "<IPython.core.display.Markdown object>"
            ],
            "text/markdown": "Windows classified as real: **10** (1.7%)"
          },
          "metadata": {}
        },
        {
          "output_type": "display_data",
          "data": {
            "text/plain": [
              "<IPython.core.display.Markdown object>"
            ],
            "text/markdown": "Windows classified as simulated: **589** (98.3%)"
          },
          "metadata": {}
        },
        {
          "output_type": "display_data",
          "data": {
            "text/plain": [
              "<IPython.core.display.Markdown object>"
            ],
            "text/markdown": "---"
          },
          "metadata": {}
        },
        {
          "output_type": "stream",
          "name": "stdout",
          "text": [
            "\n",
            "==================================================\n",
            "ANALYZING FILE 10/25: 4Panda_denoised.csv\n",
            "==================================================\n",
            "\n",
            "Analyzing only column: V1\n"
          ]
        },
        {
          "output_type": "display_data",
          "data": {
            "text/plain": [
              "<IPython.core.display.Markdown object>"
            ],
            "text/markdown": "### Analysis Results"
          },
          "metadata": {}
        },
        {
          "output_type": "display_data",
          "data": {
            "text/plain": [
              "<IPython.core.display.Markdown object>"
            ],
            "text/markdown": "**Classification:** <span style='color:red;font-weight:bold;'>SIMULATED</span>"
          },
          "metadata": {}
        },
        {
          "output_type": "display_data",
          "data": {
            "text/plain": [
              "<IPython.core.display.Markdown object>"
            ],
            "text/markdown": "**Confidence:** <span style='color:red;font-weight:bold;'>98%</span>"
          },
          "metadata": {}
        },
        {
          "output_type": "display_data",
          "data": {
            "text/plain": [
              "<IPython.core.display.Markdown object>"
            ],
            "text/markdown": "### Window Statistics"
          },
          "metadata": {}
        },
        {
          "output_type": "display_data",
          "data": {
            "text/plain": [
              "<IPython.core.display.Markdown object>"
            ],
            "text/markdown": "Total windows analyzed: **79**"
          },
          "metadata": {}
        },
        {
          "output_type": "display_data",
          "data": {
            "text/plain": [
              "<IPython.core.display.Markdown object>"
            ],
            "text/markdown": "Windows classified as real: **1** (1.3%)"
          },
          "metadata": {}
        },
        {
          "output_type": "display_data",
          "data": {
            "text/plain": [
              "<IPython.core.display.Markdown object>"
            ],
            "text/markdown": "Windows classified as simulated: **78** (98.7%)"
          },
          "metadata": {}
        },
        {
          "output_type": "display_data",
          "data": {
            "text/plain": [
              "<IPython.core.display.Markdown object>"
            ],
            "text/markdown": "---"
          },
          "metadata": {}
        },
        {
          "output_type": "stream",
          "name": "stdout",
          "text": [
            "\n",
            "==================================================\n",
            "ANALYZING FILE 11/25: processed_EPIC5.csv\n",
            "==================================================\n",
            "\n",
            "Analyzing only column: V1\n"
          ]
        },
        {
          "output_type": "display_data",
          "data": {
            "text/plain": [
              "<IPython.core.display.Markdown object>"
            ],
            "text/markdown": "### Analysis Results"
          },
          "metadata": {}
        },
        {
          "output_type": "display_data",
          "data": {
            "text/plain": [
              "<IPython.core.display.Markdown object>"
            ],
            "text/markdown": "**Classification:** <span style='color:green;font-weight:bold;'>REAL</span>"
          },
          "metadata": {}
        },
        {
          "output_type": "display_data",
          "data": {
            "text/plain": [
              "<IPython.core.display.Markdown object>"
            ],
            "text/markdown": "**Confidence:** <span style='color:green;font-weight:bold;'>97%</span>"
          },
          "metadata": {}
        },
        {
          "output_type": "display_data",
          "data": {
            "text/plain": [
              "<IPython.core.display.Markdown object>"
            ],
            "text/markdown": "### Window Statistics"
          },
          "metadata": {}
        },
        {
          "output_type": "display_data",
          "data": {
            "text/plain": [
              "<IPython.core.display.Markdown object>"
            ],
            "text/markdown": "Total windows analyzed: **158**"
          },
          "metadata": {}
        },
        {
          "output_type": "display_data",
          "data": {
            "text/plain": [
              "<IPython.core.display.Markdown object>"
            ],
            "text/markdown": "Windows classified as real: **158** (100.0%)"
          },
          "metadata": {}
        },
        {
          "output_type": "display_data",
          "data": {
            "text/plain": [
              "<IPython.core.display.Markdown object>"
            ],
            "text/markdown": "Windows classified as simulated: **0** (0.0%)"
          },
          "metadata": {}
        },
        {
          "output_type": "display_data",
          "data": {
            "text/plain": [
              "<IPython.core.display.Markdown object>"
            ],
            "text/markdown": "---"
          },
          "metadata": {}
        },
        {
          "output_type": "stream",
          "name": "stdout",
          "text": [
            "\n",
            "==================================================\n",
            "ANALYZING FILE 12/25: processed_EPIC1.csv\n",
            "==================================================\n",
            "\n",
            "Analyzing only column: V1\n"
          ]
        },
        {
          "output_type": "display_data",
          "data": {
            "text/plain": [
              "<IPython.core.display.Markdown object>"
            ],
            "text/markdown": "### Analysis Results"
          },
          "metadata": {}
        },
        {
          "output_type": "display_data",
          "data": {
            "text/plain": [
              "<IPython.core.display.Markdown object>"
            ],
            "text/markdown": "**Classification:** <span style='color:green;font-weight:bold;'>REAL</span>"
          },
          "metadata": {}
        },
        {
          "output_type": "display_data",
          "data": {
            "text/plain": [
              "<IPython.core.display.Markdown object>"
            ],
            "text/markdown": "**Confidence:** <span style='color:green;font-weight:bold;'>99%</span>"
          },
          "metadata": {}
        },
        {
          "output_type": "display_data",
          "data": {
            "text/plain": [
              "<IPython.core.display.Markdown object>"
            ],
            "text/markdown": "### Window Statistics"
          },
          "metadata": {}
        },
        {
          "output_type": "display_data",
          "data": {
            "text/plain": [
              "<IPython.core.display.Markdown object>"
            ],
            "text/markdown": "Total windows analyzed: **101**"
          },
          "metadata": {}
        },
        {
          "output_type": "display_data",
          "data": {
            "text/plain": [
              "<IPython.core.display.Markdown object>"
            ],
            "text/markdown": "Windows classified as real: **100** (99.0%)"
          },
          "metadata": {}
        },
        {
          "output_type": "display_data",
          "data": {
            "text/plain": [
              "<IPython.core.display.Markdown object>"
            ],
            "text/markdown": "Windows classified as simulated: **1** (1.0%)"
          },
          "metadata": {}
        },
        {
          "output_type": "display_data",
          "data": {
            "text/plain": [
              "<IPython.core.display.Markdown object>"
            ],
            "text/markdown": "---"
          },
          "metadata": {}
        },
        {
          "output_type": "stream",
          "name": "stdout",
          "text": [
            "\n",
            "==================================================\n",
            "ANALYZING FILE 13/25: 4Mosaik_denoised.csv\n",
            "==================================================\n",
            "\n",
            "Analyzing only column: V1\n"
          ]
        },
        {
          "output_type": "display_data",
          "data": {
            "text/plain": [
              "<IPython.core.display.Markdown object>"
            ],
            "text/markdown": "### Analysis Results"
          },
          "metadata": {}
        },
        {
          "output_type": "display_data",
          "data": {
            "text/plain": [
              "<IPython.core.display.Markdown object>"
            ],
            "text/markdown": "**Classification:** <span style='color:red;font-weight:bold;'>SIMULATED</span>"
          },
          "metadata": {}
        },
        {
          "output_type": "display_data",
          "data": {
            "text/plain": [
              "<IPython.core.display.Markdown object>"
            ],
            "text/markdown": "**Confidence:** <span style='color:red;font-weight:bold;'>99%</span>"
          },
          "metadata": {}
        },
        {
          "output_type": "display_data",
          "data": {
            "text/plain": [
              "<IPython.core.display.Markdown object>"
            ],
            "text/markdown": "### Window Statistics"
          },
          "metadata": {}
        },
        {
          "output_type": "display_data",
          "data": {
            "text/plain": [
              "<IPython.core.display.Markdown object>"
            ],
            "text/markdown": "Total windows analyzed: **59**"
          },
          "metadata": {}
        },
        {
          "output_type": "display_data",
          "data": {
            "text/plain": [
              "<IPython.core.display.Markdown object>"
            ],
            "text/markdown": "Windows classified as real: **1** (1.7%)"
          },
          "metadata": {}
        },
        {
          "output_type": "display_data",
          "data": {
            "text/plain": [
              "<IPython.core.display.Markdown object>"
            ],
            "text/markdown": "Windows classified as simulated: **58** (98.3%)"
          },
          "metadata": {}
        },
        {
          "output_type": "display_data",
          "data": {
            "text/plain": [
              "<IPython.core.display.Markdown object>"
            ],
            "text/markdown": "---"
          },
          "metadata": {}
        },
        {
          "output_type": "stream",
          "name": "stdout",
          "text": [
            "\n",
            "==================================================\n",
            "ANALYZING FILE 14/25: 3Mosaik.csv\n",
            "==================================================\n",
            "\n",
            "Analyzing only column: V1\n"
          ]
        },
        {
          "output_type": "display_data",
          "data": {
            "text/plain": [
              "<IPython.core.display.Markdown object>"
            ],
            "text/markdown": "### Analysis Results"
          },
          "metadata": {}
        },
        {
          "output_type": "display_data",
          "data": {
            "text/plain": [
              "<IPython.core.display.Markdown object>"
            ],
            "text/markdown": "**Classification:** <span style='color:red;font-weight:bold;'>SIMULATED</span>"
          },
          "metadata": {}
        },
        {
          "output_type": "display_data",
          "data": {
            "text/plain": [
              "<IPython.core.display.Markdown object>"
            ],
            "text/markdown": "**Confidence:** <span style='color:red;font-weight:bold;'>99%</span>"
          },
          "metadata": {}
        },
        {
          "output_type": "display_data",
          "data": {
            "text/plain": [
              "<IPython.core.display.Markdown object>"
            ],
            "text/markdown": "### Window Statistics"
          },
          "metadata": {}
        },
        {
          "output_type": "display_data",
          "data": {
            "text/plain": [
              "<IPython.core.display.Markdown object>"
            ],
            "text/markdown": "Total windows analyzed: **99**"
          },
          "metadata": {}
        },
        {
          "output_type": "display_data",
          "data": {
            "text/plain": [
              "<IPython.core.display.Markdown object>"
            ],
            "text/markdown": "Windows classified as real: **0** (0.0%)"
          },
          "metadata": {}
        },
        {
          "output_type": "display_data",
          "data": {
            "text/plain": [
              "<IPython.core.display.Markdown object>"
            ],
            "text/markdown": "Windows classified as simulated: **99** (100.0%)"
          },
          "metadata": {}
        },
        {
          "output_type": "display_data",
          "data": {
            "text/plain": [
              "<IPython.core.display.Markdown object>"
            ],
            "text/markdown": "---"
          },
          "metadata": {}
        },
        {
          "output_type": "stream",
          "name": "stdout",
          "text": [
            "\n",
            "==================================================\n",
            "ANALYZING FILE 15/25: 1Panda_denoised.csv\n",
            "==================================================\n",
            "\n",
            "Analyzing only column: V1\n"
          ]
        },
        {
          "output_type": "display_data",
          "data": {
            "text/plain": [
              "<IPython.core.display.Markdown object>"
            ],
            "text/markdown": "### Analysis Results"
          },
          "metadata": {}
        },
        {
          "output_type": "display_data",
          "data": {
            "text/plain": [
              "<IPython.core.display.Markdown object>"
            ],
            "text/markdown": "**Classification:** <span style='color:red;font-weight:bold;'>SIMULATED</span>"
          },
          "metadata": {}
        },
        {
          "output_type": "display_data",
          "data": {
            "text/plain": [
              "<IPython.core.display.Markdown object>"
            ],
            "text/markdown": "**Confidence:** <span style='color:red;font-weight:bold;'>98%</span>"
          },
          "metadata": {}
        },
        {
          "output_type": "display_data",
          "data": {
            "text/plain": [
              "<IPython.core.display.Markdown object>"
            ],
            "text/markdown": "### Window Statistics"
          },
          "metadata": {}
        },
        {
          "output_type": "display_data",
          "data": {
            "text/plain": [
              "<IPython.core.display.Markdown object>"
            ],
            "text/markdown": "Total windows analyzed: **239**"
          },
          "metadata": {}
        },
        {
          "output_type": "display_data",
          "data": {
            "text/plain": [
              "<IPython.core.display.Markdown object>"
            ],
            "text/markdown": "Windows classified as real: **4** (1.7%)"
          },
          "metadata": {}
        },
        {
          "output_type": "display_data",
          "data": {
            "text/plain": [
              "<IPython.core.display.Markdown object>"
            ],
            "text/markdown": "Windows classified as simulated: **235** (98.3%)"
          },
          "metadata": {}
        },
        {
          "output_type": "display_data",
          "data": {
            "text/plain": [
              "<IPython.core.display.Markdown object>"
            ],
            "text/markdown": "---"
          },
          "metadata": {}
        },
        {
          "output_type": "stream",
          "name": "stdout",
          "text": [
            "\n",
            "==================================================\n",
            "ANALYZING FILE 16/25: 2Panda.csv\n",
            "==================================================\n",
            "\n",
            "Analyzing only column: V1\n"
          ]
        },
        {
          "output_type": "display_data",
          "data": {
            "text/plain": [
              "<IPython.core.display.Markdown object>"
            ],
            "text/markdown": "### Analysis Results"
          },
          "metadata": {}
        },
        {
          "output_type": "display_data",
          "data": {
            "text/plain": [
              "<IPython.core.display.Markdown object>"
            ],
            "text/markdown": "**Classification:** <span style='color:red;font-weight:bold;'>SIMULATED</span>"
          },
          "metadata": {}
        },
        {
          "output_type": "display_data",
          "data": {
            "text/plain": [
              "<IPython.core.display.Markdown object>"
            ],
            "text/markdown": "**Confidence:** <span style='color:red;font-weight:bold;'>97%</span>"
          },
          "metadata": {}
        },
        {
          "output_type": "display_data",
          "data": {
            "text/plain": [
              "<IPython.core.display.Markdown object>"
            ],
            "text/markdown": "### Window Statistics"
          },
          "metadata": {}
        },
        {
          "output_type": "display_data",
          "data": {
            "text/plain": [
              "<IPython.core.display.Markdown object>"
            ],
            "text/markdown": "Total windows analyzed: **599**"
          },
          "metadata": {}
        },
        {
          "output_type": "display_data",
          "data": {
            "text/plain": [
              "<IPython.core.display.Markdown object>"
            ],
            "text/markdown": "Windows classified as real: **22** (3.7%)"
          },
          "metadata": {}
        },
        {
          "output_type": "display_data",
          "data": {
            "text/plain": [
              "<IPython.core.display.Markdown object>"
            ],
            "text/markdown": "Windows classified as simulated: **577** (96.3%)"
          },
          "metadata": {}
        },
        {
          "output_type": "display_data",
          "data": {
            "text/plain": [
              "<IPython.core.display.Markdown object>"
            ],
            "text/markdown": "---"
          },
          "metadata": {}
        },
        {
          "output_type": "stream",
          "name": "stdout",
          "text": [
            "\n",
            "==================================================\n",
            "ANALYZING FILE 17/25: 3Panda.csv\n",
            "==================================================\n",
            "\n",
            "Analyzing only column: V1\n"
          ]
        },
        {
          "output_type": "display_data",
          "data": {
            "text/plain": [
              "<IPython.core.display.Markdown object>"
            ],
            "text/markdown": "### Analysis Results"
          },
          "metadata": {}
        },
        {
          "output_type": "display_data",
          "data": {
            "text/plain": [
              "<IPython.core.display.Markdown object>"
            ],
            "text/markdown": "**Classification:** <span style='color:red;font-weight:bold;'>SIMULATED</span>"
          },
          "metadata": {}
        },
        {
          "output_type": "display_data",
          "data": {
            "text/plain": [
              "<IPython.core.display.Markdown object>"
            ],
            "text/markdown": "**Confidence:** <span style='color:red;font-weight:bold;'>99%</span>"
          },
          "metadata": {}
        },
        {
          "output_type": "display_data",
          "data": {
            "text/plain": [
              "<IPython.core.display.Markdown object>"
            ],
            "text/markdown": "### Window Statistics"
          },
          "metadata": {}
        },
        {
          "output_type": "display_data",
          "data": {
            "text/plain": [
              "<IPython.core.display.Markdown object>"
            ],
            "text/markdown": "Total windows analyzed: **99**"
          },
          "metadata": {}
        },
        {
          "output_type": "display_data",
          "data": {
            "text/plain": [
              "<IPython.core.display.Markdown object>"
            ],
            "text/markdown": "Windows classified as real: **0** (0.0%)"
          },
          "metadata": {}
        },
        {
          "output_type": "display_data",
          "data": {
            "text/plain": [
              "<IPython.core.display.Markdown object>"
            ],
            "text/markdown": "Windows classified as simulated: **99** (100.0%)"
          },
          "metadata": {}
        },
        {
          "output_type": "display_data",
          "data": {
            "text/plain": [
              "<IPython.core.display.Markdown object>"
            ],
            "text/markdown": "---"
          },
          "metadata": {}
        },
        {
          "output_type": "stream",
          "name": "stdout",
          "text": [
            "\n",
            "==================================================\n",
            "ANALYZING FILE 18/25: 1Mosaik_denoised.csv\n",
            "==================================================\n",
            "\n",
            "Analyzing only column: V1\n"
          ]
        },
        {
          "output_type": "display_data",
          "data": {
            "text/plain": [
              "<IPython.core.display.Markdown object>"
            ],
            "text/markdown": "### Analysis Results"
          },
          "metadata": {}
        },
        {
          "output_type": "display_data",
          "data": {
            "text/plain": [
              "<IPython.core.display.Markdown object>"
            ],
            "text/markdown": "**Classification:** <span style='color:red;font-weight:bold;'>SIMULATED</span>"
          },
          "metadata": {}
        },
        {
          "output_type": "display_data",
          "data": {
            "text/plain": [
              "<IPython.core.display.Markdown object>"
            ],
            "text/markdown": "**Confidence:** <span style='color:red;font-weight:bold;'>98%</span>"
          },
          "metadata": {}
        },
        {
          "output_type": "display_data",
          "data": {
            "text/plain": [
              "<IPython.core.display.Markdown object>"
            ],
            "text/markdown": "### Window Statistics"
          },
          "metadata": {}
        },
        {
          "output_type": "display_data",
          "data": {
            "text/plain": [
              "<IPython.core.display.Markdown object>"
            ],
            "text/markdown": "Total windows analyzed: **239**"
          },
          "metadata": {}
        },
        {
          "output_type": "display_data",
          "data": {
            "text/plain": [
              "<IPython.core.display.Markdown object>"
            ],
            "text/markdown": "Windows classified as real: **4** (1.7%)"
          },
          "metadata": {}
        },
        {
          "output_type": "display_data",
          "data": {
            "text/plain": [
              "<IPython.core.display.Markdown object>"
            ],
            "text/markdown": "Windows classified as simulated: **235** (98.3%)"
          },
          "metadata": {}
        },
        {
          "output_type": "display_data",
          "data": {
            "text/plain": [
              "<IPython.core.display.Markdown object>"
            ],
            "text/markdown": "---"
          },
          "metadata": {}
        },
        {
          "output_type": "stream",
          "name": "stdout",
          "text": [
            "\n",
            "==================================================\n",
            "ANALYZING FILE 19/25: 1Panda.csv\n",
            "==================================================\n",
            "\n",
            "Analyzing only column: V1\n"
          ]
        },
        {
          "output_type": "display_data",
          "data": {
            "text/plain": [
              "<IPython.core.display.Markdown object>"
            ],
            "text/markdown": "### Analysis Results"
          },
          "metadata": {}
        },
        {
          "output_type": "display_data",
          "data": {
            "text/plain": [
              "<IPython.core.display.Markdown object>"
            ],
            "text/markdown": "**Classification:** <span style='color:red;font-weight:bold;'>SIMULATED</span>"
          },
          "metadata": {}
        },
        {
          "output_type": "display_data",
          "data": {
            "text/plain": [
              "<IPython.core.display.Markdown object>"
            ],
            "text/markdown": "**Confidence:** <span style='color:red;font-weight:bold;'>98%</span>"
          },
          "metadata": {}
        },
        {
          "output_type": "display_data",
          "data": {
            "text/plain": [
              "<IPython.core.display.Markdown object>"
            ],
            "text/markdown": "### Window Statistics"
          },
          "metadata": {}
        },
        {
          "output_type": "display_data",
          "data": {
            "text/plain": [
              "<IPython.core.display.Markdown object>"
            ],
            "text/markdown": "Total windows analyzed: **239**"
          },
          "metadata": {}
        },
        {
          "output_type": "display_data",
          "data": {
            "text/plain": [
              "<IPython.core.display.Markdown object>"
            ],
            "text/markdown": "Windows classified as real: **5** (2.1%)"
          },
          "metadata": {}
        },
        {
          "output_type": "display_data",
          "data": {
            "text/plain": [
              "<IPython.core.display.Markdown object>"
            ],
            "text/markdown": "Windows classified as simulated: **234** (97.9%)"
          },
          "metadata": {}
        },
        {
          "output_type": "display_data",
          "data": {
            "text/plain": [
              "<IPython.core.display.Markdown object>"
            ],
            "text/markdown": "---"
          },
          "metadata": {}
        },
        {
          "output_type": "stream",
          "name": "stdout",
          "text": [
            "\n",
            "==================================================\n",
            "ANALYZING FILE 20/25: processed_EPIC3.csv\n",
            "==================================================\n",
            "\n",
            "Analyzing only column: V1\n"
          ]
        },
        {
          "output_type": "display_data",
          "data": {
            "text/plain": [
              "<IPython.core.display.Markdown object>"
            ],
            "text/markdown": "### Analysis Results"
          },
          "metadata": {}
        },
        {
          "output_type": "display_data",
          "data": {
            "text/plain": [
              "<IPython.core.display.Markdown object>"
            ],
            "text/markdown": "**Classification:** <span style='color:green;font-weight:bold;'>REAL</span>"
          },
          "metadata": {}
        },
        {
          "output_type": "display_data",
          "data": {
            "text/plain": [
              "<IPython.core.display.Markdown object>"
            ],
            "text/markdown": "**Confidence:** <span style='color:green;font-weight:bold;'>92%</span>"
          },
          "metadata": {}
        },
        {
          "output_type": "display_data",
          "data": {
            "text/plain": [
              "<IPython.core.display.Markdown object>"
            ],
            "text/markdown": "### Window Statistics"
          },
          "metadata": {}
        },
        {
          "output_type": "display_data",
          "data": {
            "text/plain": [
              "<IPython.core.display.Markdown object>"
            ],
            "text/markdown": "Total windows analyzed: **166**"
          },
          "metadata": {}
        },
        {
          "output_type": "display_data",
          "data": {
            "text/plain": [
              "<IPython.core.display.Markdown object>"
            ],
            "text/markdown": "Windows classified as real: **165** (99.4%)"
          },
          "metadata": {}
        },
        {
          "output_type": "display_data",
          "data": {
            "text/plain": [
              "<IPython.core.display.Markdown object>"
            ],
            "text/markdown": "Windows classified as simulated: **1** (0.6%)"
          },
          "metadata": {}
        },
        {
          "output_type": "display_data",
          "data": {
            "text/plain": [
              "<IPython.core.display.Markdown object>"
            ],
            "text/markdown": "---"
          },
          "metadata": {}
        },
        {
          "output_type": "stream",
          "name": "stdout",
          "text": [
            "\n",
            "==================================================\n",
            "ANALYZING FILE 21/25: 1GAN.csv\n",
            "==================================================\n",
            "\n",
            "Analyzing only column: V1\n"
          ]
        },
        {
          "output_type": "display_data",
          "data": {
            "text/plain": [
              "<IPython.core.display.Markdown object>"
            ],
            "text/markdown": "### Analysis Results"
          },
          "metadata": {}
        },
        {
          "output_type": "display_data",
          "data": {
            "text/plain": [
              "<IPython.core.display.Markdown object>"
            ],
            "text/markdown": "**Classification:** <span style='color:red;font-weight:bold;'>SIMULATED</span>"
          },
          "metadata": {}
        },
        {
          "output_type": "display_data",
          "data": {
            "text/plain": [
              "<IPython.core.display.Markdown object>"
            ],
            "text/markdown": "**Confidence:** <span style='color:red;font-weight:bold;'>79%</span>"
          },
          "metadata": {}
        },
        {
          "output_type": "display_data",
          "data": {
            "text/plain": [
              "<IPython.core.display.Markdown object>"
            ],
            "text/markdown": "### Window Statistics"
          },
          "metadata": {}
        },
        {
          "output_type": "display_data",
          "data": {
            "text/plain": [
              "<IPython.core.display.Markdown object>"
            ],
            "text/markdown": "Total windows analyzed: **199**"
          },
          "metadata": {}
        },
        {
          "output_type": "display_data",
          "data": {
            "text/plain": [
              "<IPython.core.display.Markdown object>"
            ],
            "text/markdown": "Windows classified as real: **0** (0.0%)"
          },
          "metadata": {}
        },
        {
          "output_type": "display_data",
          "data": {
            "text/plain": [
              "<IPython.core.display.Markdown object>"
            ],
            "text/markdown": "Windows classified as simulated: **199** (100.0%)"
          },
          "metadata": {}
        },
        {
          "output_type": "display_data",
          "data": {
            "text/plain": [
              "<IPython.core.display.Markdown object>"
            ],
            "text/markdown": "---"
          },
          "metadata": {}
        },
        {
          "output_type": "stream",
          "name": "stdout",
          "text": [
            "\n",
            "==================================================\n",
            "ANALYZING FILE 22/25: processed_EPIC2.csv\n",
            "==================================================\n",
            "\n",
            "Analyzing only column: V1\n"
          ]
        },
        {
          "output_type": "display_data",
          "data": {
            "text/plain": [
              "<IPython.core.display.Markdown object>"
            ],
            "text/markdown": "### Analysis Results"
          },
          "metadata": {}
        },
        {
          "output_type": "display_data",
          "data": {
            "text/plain": [
              "<IPython.core.display.Markdown object>"
            ],
            "text/markdown": "**Classification:** <span style='color:green;font-weight:bold;'>REAL</span>"
          },
          "metadata": {}
        },
        {
          "output_type": "display_data",
          "data": {
            "text/plain": [
              "<IPython.core.display.Markdown object>"
            ],
            "text/markdown": "**Confidence:** <span style='color:green;font-weight:bold;'>96%</span>"
          },
          "metadata": {}
        },
        {
          "output_type": "display_data",
          "data": {
            "text/plain": [
              "<IPython.core.display.Markdown object>"
            ],
            "text/markdown": "### Window Statistics"
          },
          "metadata": {}
        },
        {
          "output_type": "display_data",
          "data": {
            "text/plain": [
              "<IPython.core.display.Markdown object>"
            ],
            "text/markdown": "Total windows analyzed: **37**"
          },
          "metadata": {}
        },
        {
          "output_type": "display_data",
          "data": {
            "text/plain": [
              "<IPython.core.display.Markdown object>"
            ],
            "text/markdown": "Windows classified as real: **37** (100.0%)"
          },
          "metadata": {}
        },
        {
          "output_type": "display_data",
          "data": {
            "text/plain": [
              "<IPython.core.display.Markdown object>"
            ],
            "text/markdown": "Windows classified as simulated: **0** (0.0%)"
          },
          "metadata": {}
        },
        {
          "output_type": "display_data",
          "data": {
            "text/plain": [
              "<IPython.core.display.Markdown object>"
            ],
            "text/markdown": "---"
          },
          "metadata": {}
        },
        {
          "output_type": "stream",
          "name": "stdout",
          "text": [
            "\n",
            "==================================================\n",
            "ANALYZING FILE 23/25: 1Mosaik.csv\n",
            "==================================================\n",
            "\n",
            "Analyzing only column: V1\n"
          ]
        },
        {
          "output_type": "display_data",
          "data": {
            "text/plain": [
              "<IPython.core.display.Markdown object>"
            ],
            "text/markdown": "### Analysis Results"
          },
          "metadata": {}
        },
        {
          "output_type": "display_data",
          "data": {
            "text/plain": [
              "<IPython.core.display.Markdown object>"
            ],
            "text/markdown": "**Classification:** <span style='color:red;font-weight:bold;'>SIMULATED</span>"
          },
          "metadata": {}
        },
        {
          "output_type": "display_data",
          "data": {
            "text/plain": [
              "<IPython.core.display.Markdown object>"
            ],
            "text/markdown": "**Confidence:** <span style='color:red;font-weight:bold;'>98%</span>"
          },
          "metadata": {}
        },
        {
          "output_type": "display_data",
          "data": {
            "text/plain": [
              "<IPython.core.display.Markdown object>"
            ],
            "text/markdown": "### Window Statistics"
          },
          "metadata": {}
        },
        {
          "output_type": "display_data",
          "data": {
            "text/plain": [
              "<IPython.core.display.Markdown object>"
            ],
            "text/markdown": "Total windows analyzed: **239**"
          },
          "metadata": {}
        },
        {
          "output_type": "display_data",
          "data": {
            "text/plain": [
              "<IPython.core.display.Markdown object>"
            ],
            "text/markdown": "Windows classified as real: **5** (2.1%)"
          },
          "metadata": {}
        },
        {
          "output_type": "display_data",
          "data": {
            "text/plain": [
              "<IPython.core.display.Markdown object>"
            ],
            "text/markdown": "Windows classified as simulated: **234** (97.9%)"
          },
          "metadata": {}
        },
        {
          "output_type": "display_data",
          "data": {
            "text/plain": [
              "<IPython.core.display.Markdown object>"
            ],
            "text/markdown": "---"
          },
          "metadata": {}
        },
        {
          "output_type": "stream",
          "name": "stdout",
          "text": [
            "\n",
            "==================================================\n",
            "ANALYZING FILE 24/25: 3Panda_denoised.csv\n",
            "==================================================\n",
            "\n",
            "Analyzing only column: V1\n"
          ]
        },
        {
          "output_type": "display_data",
          "data": {
            "text/plain": [
              "<IPython.core.display.Markdown object>"
            ],
            "text/markdown": "### Analysis Results"
          },
          "metadata": {}
        },
        {
          "output_type": "display_data",
          "data": {
            "text/plain": [
              "<IPython.core.display.Markdown object>"
            ],
            "text/markdown": "**Classification:** <span style='color:red;font-weight:bold;'>SIMULATED</span>"
          },
          "metadata": {}
        },
        {
          "output_type": "display_data",
          "data": {
            "text/plain": [
              "<IPython.core.display.Markdown object>"
            ],
            "text/markdown": "**Confidence:** <span style='color:red;font-weight:bold;'>98%</span>"
          },
          "metadata": {}
        },
        {
          "output_type": "display_data",
          "data": {
            "text/plain": [
              "<IPython.core.display.Markdown object>"
            ],
            "text/markdown": "### Window Statistics"
          },
          "metadata": {}
        },
        {
          "output_type": "display_data",
          "data": {
            "text/plain": [
              "<IPython.core.display.Markdown object>"
            ],
            "text/markdown": "Total windows analyzed: **99**"
          },
          "metadata": {}
        },
        {
          "output_type": "display_data",
          "data": {
            "text/plain": [
              "<IPython.core.display.Markdown object>"
            ],
            "text/markdown": "Windows classified as real: **3** (3.0%)"
          },
          "metadata": {}
        },
        {
          "output_type": "display_data",
          "data": {
            "text/plain": [
              "<IPython.core.display.Markdown object>"
            ],
            "text/markdown": "Windows classified as simulated: **96** (97.0%)"
          },
          "metadata": {}
        },
        {
          "output_type": "display_data",
          "data": {
            "text/plain": [
              "<IPython.core.display.Markdown object>"
            ],
            "text/markdown": "---"
          },
          "metadata": {}
        },
        {
          "output_type": "stream",
          "name": "stdout",
          "text": [
            "\n",
            "==================================================\n",
            "ANALYZING FILE 25/25: processed_EPIC4.csv\n",
            "==================================================\n",
            "\n",
            "Analyzing only column: V1\n"
          ]
        },
        {
          "output_type": "display_data",
          "data": {
            "text/plain": [
              "<IPython.core.display.Markdown object>"
            ],
            "text/markdown": "### Analysis Results"
          },
          "metadata": {}
        },
        {
          "output_type": "display_data",
          "data": {
            "text/plain": [
              "<IPython.core.display.Markdown object>"
            ],
            "text/markdown": "**Classification:** <span style='color:green;font-weight:bold;'>REAL</span>"
          },
          "metadata": {}
        },
        {
          "output_type": "display_data",
          "data": {
            "text/plain": [
              "<IPython.core.display.Markdown object>"
            ],
            "text/markdown": "**Confidence:** <span style='color:green;font-weight:bold;'>97%</span>"
          },
          "metadata": {}
        },
        {
          "output_type": "display_data",
          "data": {
            "text/plain": [
              "<IPython.core.display.Markdown object>"
            ],
            "text/markdown": "### Window Statistics"
          },
          "metadata": {}
        },
        {
          "output_type": "display_data",
          "data": {
            "text/plain": [
              "<IPython.core.display.Markdown object>"
            ],
            "text/markdown": "Total windows analyzed: **168**"
          },
          "metadata": {}
        },
        {
          "output_type": "display_data",
          "data": {
            "text/plain": [
              "<IPython.core.display.Markdown object>"
            ],
            "text/markdown": "Windows classified as real: **168** (100.0%)"
          },
          "metadata": {}
        },
        {
          "output_type": "display_data",
          "data": {
            "text/plain": [
              "<IPython.core.display.Markdown object>"
            ],
            "text/markdown": "Windows classified as simulated: **0** (0.0%)"
          },
          "metadata": {}
        },
        {
          "output_type": "display_data",
          "data": {
            "text/plain": [
              "<IPython.core.display.Markdown object>"
            ],
            "text/markdown": "---"
          },
          "metadata": {}
        },
        {
          "output_type": "stream",
          "name": "stdout",
          "text": [
            "\n",
            "All files have been analyzed.\n"
          ]
        },
        {
          "output_type": "display_data",
          "data": {
            "text/plain": [
              "<IPython.core.display.Markdown object>"
            ],
            "text/markdown": "# Classification Performance Summary"
          },
          "metadata": {}
        },
        {
          "output_type": "display_data",
          "data": {
            "text/plain": [
              "<IPython.core.display.Markdown object>"
            ],
            "text/markdown": "## File-Level Metrics"
          },
          "metadata": {}
        },
        {
          "output_type": "display_data",
          "data": {
            "text/plain": [
              "<IPython.core.display.Markdown object>"
            ],
            "text/markdown": "**Actual REAL (EPIC files)**"
          },
          "metadata": {}
        },
        {
          "output_type": "display_data",
          "data": {
            "text/plain": [
              "<IPython.core.display.Markdown object>"
            ],
            "text/markdown": "- True Positives: 7"
          },
          "metadata": {}
        },
        {
          "output_type": "display_data",
          "data": {
            "text/plain": [
              "<IPython.core.display.Markdown object>"
            ],
            "text/markdown": "- False Negatives: 0"
          },
          "metadata": {}
        },
        {
          "output_type": "display_data",
          "data": {
            "text/plain": [
              "<IPython.core.display.Markdown object>"
            ],
            "text/markdown": "**Actual SIMULATED (non-EPIC files)**"
          },
          "metadata": {}
        },
        {
          "output_type": "display_data",
          "data": {
            "text/plain": [
              "<IPython.core.display.Markdown object>"
            ],
            "text/markdown": "- False Positives: 0"
          },
          "metadata": {}
        },
        {
          "output_type": "display_data",
          "data": {
            "text/plain": [
              "<IPython.core.display.Markdown object>"
            ],
            "text/markdown": "- True Negatives: 18"
          },
          "metadata": {}
        },
        {
          "output_type": "display_data",
          "data": {
            "text/plain": [
              "<IPython.core.display.Markdown object>"
            ],
            "text/markdown": "**Accuracy:** 100.00%"
          },
          "metadata": {}
        },
        {
          "output_type": "display_data",
          "data": {
            "text/plain": [
              "<IPython.core.display.Markdown object>"
            ],
            "text/markdown": "## Window-Level Metrics"
          },
          "metadata": {}
        },
        {
          "output_type": "display_data",
          "data": {
            "text/plain": [
              "<IPython.core.display.Markdown object>"
            ],
            "text/markdown": "**Actual REAL (from EPIC files)**"
          },
          "metadata": {}
        },
        {
          "output_type": "display_data",
          "data": {
            "text/plain": [
              "<IPython.core.display.Markdown object>"
            ],
            "text/markdown": "- True Positives: 859"
          },
          "metadata": {}
        },
        {
          "output_type": "display_data",
          "data": {
            "text/plain": [
              "<IPython.core.display.Markdown object>"
            ],
            "text/markdown": "- False Negatives: 4"
          },
          "metadata": {}
        },
        {
          "output_type": "display_data",
          "data": {
            "text/plain": [
              "<IPython.core.display.Markdown object>"
            ],
            "text/markdown": "**Actual SIMULATED (from non-EPIC files)**"
          },
          "metadata": {}
        },
        {
          "output_type": "display_data",
          "data": {
            "text/plain": [
              "<IPython.core.display.Markdown object>"
            ],
            "text/markdown": "- False Positives: 74"
          },
          "metadata": {}
        },
        {
          "output_type": "display_data",
          "data": {
            "text/plain": [
              "<IPython.core.display.Markdown object>"
            ],
            "text/markdown": "- True Negatives: 4333"
          },
          "metadata": {}
        },
        {
          "output_type": "display_data",
          "data": {
            "text/plain": [
              "<IPython.core.display.Markdown object>"
            ],
            "text/markdown": "**Accuracy:** 98.52%"
          },
          "metadata": {}
        }
      ]
    }
  ]
}